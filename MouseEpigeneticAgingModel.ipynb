{
 "cells": [
  {
   "cell_type": "markdown",
   "metadata": {},
   "source": [
    "In this notebook, we first used a parallel environment to perform a parameter sweep to determine the most optimal regularization parameters. These are the alpha and l1_ratio parameters. To select parameters, we took the alpha and l1_ratio that maximized the average correlation in 4-fold cross-validation (to the hundreds) and minimized the average root mean squared error between the predictions and the actual ages. The four-fold was done in such a way that days were grouped so that older ages would appear in each fold. This was looped for an input of alpha and l1_ratios, where each fold of cross validation was saved. This can be found in 'scripts/CV_ElasticNet_Training_stratifiedKfold_stratname_general_loopRegParams.py'. It takes as input, a file indicating which alpha and l1_ratio to test in that iteration. This is provided as a tab-delimited file where alpha is the first column and l1_ratio is the second column. Other inputs include: the directory to write out results, the input hdffile (indexed by methy_mat for methyation values and covariates for covariates), the selection of markers (generally set to all), the variable to learn, if the columns are integers (generally True), and the stratified variable name. "
   ]
  },
  {
   "cell_type": "markdown",
   "metadata": {},
   "source": [
    "### Notebook Imports"
   ]
  },
  {
   "cell_type": "code",
   "execution_count": 1,
   "metadata": {
    "collapsed": true
   },
   "outputs": [],
   "source": [
    "from __future__ import division\n",
    "import os\n",
    "import numpy as np\n",
    "import random \n",
    "import pandas as pd\n",
    "import seaborn as sns\n",
    "import matplotlib.pyplot as plt\n",
    "import matplotlib as mpl\n",
    "mpl.rcParams['pdf.fonttype'] = 42\n",
    "mpl.rcParams['legend.numpoints'] = 1\n",
    "%matplotlib inline\n",
    "import itertools\n",
    "\n",
    "import imp\n",
    "twto = imp.load_source('twto','scripts/twang_toolbox.py')\n",
    "meth = imp.load_source('meth','scripts/methy_parsing.py')\n",
    "\n",
    "from sklearn import cross_validation, linear_model, metrics\n",
    "import statsmodels.api as sm\n",
    "import statsmodels.formula.api as smf\n",
    "import statsmodels.sandbox.stats as smstats\n",
    "import scipy.stats as stats\n",
    "import scipy.cluster.hierarchy as hac"
   ]
  },
  {
   "cell_type": "code",
   "execution_count": 2,
   "metadata": {
    "collapsed": false
   },
   "outputs": [],
   "source": [
    "#Used for paper\n",
    "sns.set(context = \"paper\", style='ticks',rc={\"font.size\":8,\"legend.fontsize\":5,\"axes.titlesize\":8,\n",
    "                             \"axes.labelsize\":6,\"xtick.labelsize\":6,\"ytick.labelsize\":6, 'xtick.major.size': 3.0,\n",
    " 'xtick.minor.size': 1.0,'ytick.major.size': 3.0,\n",
    " 'ytick.minor.size': 1.0})"
   ]
  },
  {
   "cell_type": "markdown",
   "metadata": {},
   "source": [
    "### Functions used"
   ]
  },
  {
   "cell_type": "code",
   "execution_count": 3,
   "metadata": {
    "collapsed": true
   },
   "outputs": [],
   "source": [
    "def apply_model(mod_obj,df):\n",
    "    predictions = mod_obj.predict(df)\n",
    "    return pd.Series([2**x for x in predictions],index=df.index,name='EpiAgeMonths')/30.42\n",
    "def make_lmreg(x,y):\n",
    "    lm = linear_model.LinearRegression()\n",
    "    lm = lm.fit(pd.DataFrame(x),y)\n",
    "    return(lm.coef_[0],lm.intercept_)"
   ]
  },
  {
   "cell_type": "code",
   "execution_count": 4,
   "metadata": {
    "collapsed": true
   },
   "outputs": [],
   "source": [
    "def format_predictions_df(predictions_df):\n",
    "    predictions_df = predictions_df.copy(deep=True)\n",
    "    predictions_df['Age_month'] = (predictions_df['age_daysnotlog']/30.42).round(1)\n",
    "    map_treatment = {'D':'D', 'Rapa':'Rapa', 'CR':'CR', 'normal':'untreated', 'high/high':'untreated', 'high/low':'untreated', 'low/high':'untreated'}\n",
    "    predictions_df['treatment2'] = predictions_df['treatment'].map(map_treatment)\n",
    "    predictions_df['Epi-actual'] = predictions_df['EpiAgeMonths'] -predictions_df['Age_month']\n",
    "    #f,axes = plt.subplots(2,2,figsize=(10,8))\n",
    "    map_control_treatment_strains = {'Ames':{2:{'D':'2m Ames dwarf','untreated':'2m Ames'},22:{'D':'22m Ames dwarf','untreated':'22m Ames'}},\n",
    "                                 'Miller':{2:{'untreated':'2m UMHET3'},22:{'untreated':'22m UMHET3','Rapa':'22m UMHET3 Rapa','CR':'22m UMHET3 CR'}},'SRP032932':{'untreated':'2.1m C57BL6'}}\n",
    "    for k,grp in predictions_df.groupby('Study'):\n",
    "        if k !='SRP032932':\n",
    "            for k2,grp2 in grp.groupby('Age_month'):\n",
    "                study_map_mouse = map_control_treatment_strains[k][k2]\n",
    "                predictions_df.loc[grp2.index,'mouse'] = predictions_df.loc[grp2.index,'treatment2'].map(study_map_mouse)\n",
    "        else:\n",
    "            study_map_mouse = map_control_treatment_strains[k]\n",
    "            predictions_df.loc[grp.index,'mouse'] = predictions_df.loc[grp.index,'treatment2'].map(study_map_mouse)\n",
    "    predictions_df['treatment'] = predictions_df['treatment'].map({'normal':'untreated','high/high':'high/high','high/low':'high/low','low/high':'low/high','D':'D','Rapa':'Rapa','CR':'CR'})\n",
    "    predictions_df['ChronAgeMonth'] = predictions_df['Age_month'].round(1)\n",
    "    controls = predictions_df[predictions_df['treatment2']=='untreated']\n",
    "    m_controls,b_controls = make_lmreg(controls.loc[controls.mouse!='2.1m C57BL6','Age_month'],controls.loc[controls.mouse!='2.1m C57BL6','EpiAgeMonths'])\n",
    "    predictions_df['RescaledEpiAges'] = (predictions_df['EpiAgeMonths']-b_controls)/m_controls\n",
    "    predictions_df['RescaledEpi-Actual'] = predictions_df['RescaledEpiAges']-predictions_df['Age_month']\n",
    "    return(predictions_df)"
   ]
  },
  {
   "cell_type": "markdown",
   "metadata": {},
   "source": [
    "#### Plotting functions"
   ]
  },
  {
   "cell_type": "code",
   "execution_count": 5,
   "metadata": {
    "collapsed": true
   },
   "outputs": [],
   "source": [
    "def make_cv_figplot_log(cv_resultstt,axes,legend_loc,markersize=30,range_end_treat=20):\n",
    "    #colors = sns.color_palette(\"Set2\", 5).as_hex()\n",
    "    #min_predictions = predictions_df['EpiAgeMonths'].min()\n",
    "    ax=axes\n",
    "    j=0\n",
    "    nonneg_cv_results = cv_resultstt.loc[cv_resultstt.predicted>0]\n",
    "    ax.plot(np.log2(np.linspace(0.001,28,100)),np.log2(np.linspace(0.001,28,100)),'--',color='gray')\n",
    "    #for k,grp in nonneg_cv_results.groupby('fold'):\n",
    "    ax.scatter(np.log2(nonneg_cv_results['actual']),np.log2(nonneg_cv_results['predicted']),color='black',s=markersize,alpha=0.3)\n",
    "    #    j=j+1\n",
    "    m_cv,b_cv = make_lmreg(np.log2(nonneg_cv_results['actual']/30.42),np.log2(nonneg_cv_results['predicted']))\n",
    "    #ax.plot(np.linspace(0.001,28,100),[m_cv*x+b_cv for x in np.linspace(0.001,28,100)],label='cv:y = {}x{}{}'.format(round(m_cv,2),['+',''][b_cv<0],round(b_cv,1)))\n",
    "    ax.set_xlim([-2,np.log2(range_end_treat)])\n",
    "    ax.set_ylim([-2,np.log2(range_end_treat)])\n",
    "    ax.set_xticklabels([round(2**x,1) for x in ax.get_xticks()])\n",
    "    ax.set_yticklabels([round(2**x,1) for x in ax.get_yticks()])\n",
    "    #handles,labels = ax.get_legend_handles_labels()\n",
    "    corr_per_fold = [grp['predicted'].corr(grp['actual']) for k,grp in nonneg_cv_results.groupby('fold')]\n",
    "    #ax.legend(handles,['{0}fold; r = {1:.2f}'.format(labels[i],round(corr_per_fold[i],2)) for i in range(len(corr_per_fold))],\n",
    "    #           bbox_to_anchor=legend_loc,frameon=True,markerscale=.5,ncol=2,labelspacing=0.1,handletextpad=0.1)\n",
    "    ax.annotate('r = {0:.2f}'.format(round(np.mean(corr_per_fold),2)),xy=(np.log2(0.5),np.log2(10)))\n",
    "    ax.set_ylabel('Epigenetic age in months',fontsize=8)\n",
    "    ax.set_xlabel('Chronological age in months',fontsize=8)\n",
    "    sns.despine()\n",
    "    #return(predictions_df)\n",
    "\n",
    "def make_test_plot(predictions_df,axes,legend_loc,range_end_treat=28,offset_ages_amt=0.3,markersize=30):\n",
    "    ax=axes\n",
    "    controls = predictions_df[predictions_df['treatment2']=='untreated']\n",
    "    min_predictions = predictions_df['EpiAgeMonths'].min()\n",
    "    m_controls,b_controls = make_lmreg(controls['Age_month'],controls['EpiAgeMonths'])\n",
    "    map_study = {'Ames':'Ames','Miller':'UMHET3','SRP032932':'C57BL6'}\n",
    "    color_xkcd_pal_dict = {'Ames':sns.xkcd_rgb[\"ocean blue\"],'Miller':sns.xkcd_rgb[\"greenish blue\"],'SRP032932':sns.xkcd_rgb[\"dark grey\"]}\n",
    "    markers_dict = {'Ames':'o','Miller':'D','SRP032932':'x'}\n",
    "    offset_ages = offset_ages_amt\n",
    "    #m_cv,b_cv = make_lmreg(cv_resultstt['actual']/30.42,cv_resultstt['predicted'])\n",
    "    for k,grp in controls.groupby('Study'):\n",
    "        marker = markers_dict[k]\n",
    "        c = color_xkcd_pal_dict[k]\n",
    "        ax.scatter(grp['Age_month']+offset_ages,grp['EpiAgeMonths'],marker=marker,color=c,label=map_study[k],s=markersize,alpha=0.7)\n",
    "        offset_ages = offset_ages+offset_ages_amt\n",
    "    ax.plot(range(-10,28),range(-10,28),'--',color='gray')\n",
    "    #ax.plot(range(-10,28),[m_controls*x+b_controls for x in range(-10,28)],color='black',label='untreated')\n",
    "            #label='untreated:y = {}x{}{}'.format(round(m_controls,1),['+',''][b_controls<0],round(b_controls,1)))\n",
    "    #ax.legend(ncol=2,frameon=True,bbox_to_anchor=(1,-0.15))\n",
    "    ax.legend(ncol=2,frameon=True,bbox_to_anchor = legend_loc,markerscale=0.7)\n",
    "    if min_predictions<-1:\n",
    "        ax.set_ylim(min_predictions-1,range_end_treat)\n",
    "        ax.set_xlim([min_predictions-1,range_end_treat])\n",
    "    else:\n",
    "        ax.set_ylim([-5,range_end_treat])\n",
    "        ax.set_xlim([-5,range_end_treat])\n",
    "    ax.set_ylabel('Epigenetic age in months',fontsize=8)\n",
    "    ax.set_xlabel('Chronological age in months',fontsize=8)\n",
    "    sns.despine()\n",
    "\n",
    "def make_interventions_plot(predictions_df,axes,legend_loc,offset_ages_amt=0.3,markersize=30,swarmsize=5,range_end_treat=2,rescale=False):\n",
    "    #C\n",
    "    ax=axes\n",
    "    controls = predictions_df[(predictions_df['treatment2']=='untreated') & (predictions_df['mouse']!='2.1m C57BL6')]\n",
    "    min_predictions = predictions_df['EpiAgeMonths'].min()\n",
    "    m_controls,b_controls = make_lmreg(controls['Age_month'],controls['EpiAgeMonths'])\n",
    "    predictions_df['RescaledEpiAges'] = (predictions_df['EpiAgeMonths']-b_controls)/m_controls\n",
    "    min_predictions_rescaled = predictions_df['RescaledEpiAges'].min()\n",
    "    notcontrols = predictions_df[predictions_df['treatment2']!='untreated']\n",
    "    m_controls_rescaled,b_controls_rescaled = make_lmreg(predictions_df.loc[controls.index,'Age_month'],predictions_df.loc[controls.index,'RescaledEpiAges'])\n",
    "    m_notcontrols,b_notcontrols = make_lmreg(notcontrols['Age_month'],notcontrols['EpiAgeMonths'])\n",
    "    m_notcontrols_rescaled,b_notcontrols_rescaled = make_lmreg(notcontrols['Age_month'],notcontrols['RescaledEpiAges'])\n",
    "    map_study_treatment_dict = {'D':'Ames dwarf','Rapa':'UMHET3 Rapa','CR':'UMHET3 CR'}\n",
    "    map_study = {'Ames':'Ames','Miller':'UMHET3','SRP032932':'C57BL6'}\n",
    "    adams_xkcd_pal_dict = {'D':sns.xkcd_rgb[\"baby blue\"],'Rapa':sns.xkcd_rgb[\"hunter green\"],'CR':sns.xkcd_rgb[\"greenish grey\"]}\n",
    "    markers_dict_treat = {'D':'H','Rapa':'d','CR':'s'}\n",
    "    markers_dict = {'Ames':'o','Miller':'D','SRP032932':'x'}\n",
    "    color_xkcd_pal_dict = {'Ames':sns.xkcd_rgb[\"ocean blue\"],'Miller':sns.xkcd_rgb[\"greenish blue\"],'SRP032932':sns.xkcd_rgb[\"dark grey\"]}\n",
    "    offset_ages = offset_ages_amt\n",
    "    for k,grp in notcontrols.groupby('treatment'):\n",
    "        color = adams_xkcd_pal_dict[k]\n",
    "        marker=markers_dict_treat[k]\n",
    "        if not rescale:\n",
    "            ax.scatter(grp['Age_month']+offset_ages,grp['EpiAgeMonths'],marker=marker,color=color,label=map_study_treatment_dict[k],s=markersize,alpha=0.7)\n",
    "        else:\n",
    "            ax.scatter(grp['Age_month']+offset_ages,grp['RescaledEpiAges'],marker=marker,color=color,label=map_study_treatment_dict[k],s=markersize,alpha=0.7)\n",
    "        offset_ages = offset_ages+offset_ages_amt\n",
    "    offset_ages = offset_ages_amt\n",
    "    for k,grp in controls.groupby('Study'):\n",
    "        marker = markers_dict[k]\n",
    "        c = color_xkcd_pal_dict[k]\n",
    "        if not rescale:\n",
    "            ax.scatter(grp['Age_month']+offset_ages,grp['EpiAgeMonths'],marker=marker,color='gray',label=map_study[k],s=markersize,alpha=0.3)\n",
    "        else:\n",
    "            ax.scatter(grp['Age_month']+offset_ages,grp['RescaledEpiAges'],marker=marker,color='gray',label=map_study[k],s=markersize,alpha=0.3)\n",
    "        offset_ages = offset_ages+offset_ages_amt\n",
    "    if not rescale:\n",
    "        ax.plot(range(-10,28),[m_controls*x+b_controls for x in range(-10,28)],color='black',label='untreated')\n",
    "    else:\n",
    "        ax.plot(range(-10,28),[m_controls_rescaled*x+b_controls_rescaled for x in range(-10,28)],color='black',label='untreated')\n",
    "            #label='untreated:y = {}x{}{}'.format(round(m_controls,1),['+',''][b_controls<0],round(b_controls,1)))\n",
    "    if not rescale:\n",
    "        ax.plot(range(-10,28),[m_notcontrols*x+b_notcontrols for x in range(-10,28)],color='green',label='treated')\n",
    "    else:\n",
    "        ax.plot(range(-10,28),[m_notcontrols_rescaled*x+b_notcontrols_rescaled for x in range(-10,28)],color='green',label='treated')\n",
    "            #label='treated:y = {}x{}{}'.format(round(m_notcontrols,1),['+',''][b_notcontrols<0],round(b_notcontrols,1)))\n",
    "    ax.legend(ncol=2,frameon=True,bbox_to_anchor=legend_loc,markerscale=0.7)\n",
    "    #ax.legend(ncol=3,frameon=True,loc='lower left')\n",
    "    ax.set_xlim([-1,28])\n",
    "    if not rescale:\n",
    "        if min_predictions<-1:\n",
    "            ax.set_ylim(min_predictions-1,range_end_treat)\n",
    "            ax.set_xlim(min_predictions-1,range_end_treat)\n",
    "        else:\n",
    "            ax.set_ylim([-5,range_end_treat])\n",
    "            ax.set_xlim([-5,range_end_treat])\n",
    "    else:\n",
    "        if min_predictions_rescaled<-1:\n",
    "            ax.set_ylim(min_predictions_rescaled-1,range_end_treat)\n",
    "            ax.set_xlim(min_predictions_rescaled-1,range_end_treat)\n",
    "        else:\n",
    "            ax.set_ylim([-5,range_end_treat])\n",
    "            ax.set_xlim([-5,range_end_treat])\n",
    "    ax.set_ylabel('Epigenetic age in months',fontsize=8)\n",
    "    ax.set_xlabel('Chronological age in months',fontsize=8)\n",
    "    ax.plot([-1, 1], [-1, 1], '--',transform=ax.transAxes,color='gray')\n",
    "    sns.despine(ax=ax)\n",
    "\n",
    "def make_residuals_plot(predictions_df,treat_col,color_pal,legend_loc,axes,hue_order,swarmsize=5,split=False,despine_bottom=True,hue_col='mouse',n_col=2,order=None,rescaled=False):\n",
    "    #color_pal = sns.color_palette('pastel')\n",
    "    if order:\n",
    "        if not rescaled:\n",
    "            ax = sns.swarmplot(x=predictions_df[treat_col],y=predictions_df['Epi-actual'],hue=predictions_df[hue_col],order=order,palette=color_pal,s=swarmsize,split=split,hue_order=hue_order,alpha=0.7,ax=axes)\n",
    "        else:\n",
    "            ax = sns.swarmplot(x=predictions_df[treat_col],y=predictions_df['RescaledEpi-Actual'],hue=predictions_df[hue_col],order=order,palette=color_pal,s=swarmsize,split=split,hue_order=hue_order,alpha=0.7,ax=axes)\n",
    "    else:\n",
    "        if not rescaled:\n",
    "            ax = sns.swarmplot(x=predictions_df[treat_col],y=predictions_df['Epi-actual'],hue=predictions_df[hue_col],palette=color_pal,s=swarmsize,split=split,hue_order=hue_order,alpha=0.7,ax=axes)\n",
    "        else:\n",
    "            ax = sns.swarmplot(x=predictions_df[treat_col],y=predictions_df['RescaledEpi-Actual'],hue=predictions_df[hue_col],palette=color_pal,s=swarmsize,split=split,hue_order=hue_order,alpha=0.7,ax=axes)\n",
    "    ax.set_ylim(ax.get_ylim()[0],ax.get_ylim()[1])\n",
    "    #ax.legend(loc='upper left',frameon=True,ncol=3)\n",
    "    ax.axhline(y=0,ls='--',color='grey')\n",
    "    ax.legend(frameon=True,ncol=n_col,bbox_to_anchor=legend_loc,markerscale=0.5)\n",
    "    ax.set_ylabel('Epigenetic age - Chronological age')\n",
    "    ax.set_xlabel('')\n",
    "    if despine_bottom:\n",
    "        ax.set_xticks([])\n",
    "        sns.despine(ax=ax,bottom=True)\n",
    "    else:\n",
    "        sns.despine(ax=ax)"
   ]
  },
  {
   "cell_type": "markdown",
   "metadata": {},
   "source": [
    "### Regularization parameter selection"
   ]
  },
  {
   "cell_type": "markdown",
   "metadata": {},
   "source": [
    "The results of the above procedure yields a table that reports the  pearson for each fold, the mean squared error of each fold, the r2 score, the precision of the correlation to 2 decimal places.The resulting file format is shown in cv_results_f."
   ]
  },
  {
   "cell_type": "code",
   "execution_count": 6,
   "metadata": {
    "collapsed": true
   },
   "outputs": [],
   "source": [
    "cv_results_f = 'data/epigenetic_aging_model/CrossValidation_OptimalParameterSelection.txt'\n",
    "optimal_parameters_cv = pd.read_csv(cv_results_f,sep='\\t',header=0,index_col=0)"
   ]
  },
  {
   "cell_type": "code",
   "execution_count": 7,
   "metadata": {
    "collapsed": true
   },
   "outputs": [],
   "source": [
    "alph = optimal_parameters_cv.sort_values(by=['mean_rmse','round_mp'],ascending=[True,False]).iloc[0]['alpha']\n",
    "lirat = optimal_parameters_cv.sort_values(by=['mean_rmse','round_mp'],ascending=[True,False]).iloc[0]['lirat']"
   ]
  },
  {
   "cell_type": "markdown",
   "metadata": {},
   "source": [
    "### Import  data"
   ]
  },
  {
   "cell_type": "markdown",
   "metadata": {},
   "source": [
    "#### Training data"
   ]
  },
  {
   "cell_type": "code",
   "execution_count": 9,
   "metadata": {
    "collapsed": true
   },
   "outputs": [],
   "source": [
    "training_df = pd.read_hdf('data/epigenetic_aging_model/CombatNormalizedTrainingData.h5','methy_mat')\n",
    "training_covs = pd.read_hdf('data/epigenetic_aging_model/CombatNormalizedTrainingData.h5','covariates')"
   ]
  },
  {
   "cell_type": "markdown",
   "metadata": {},
   "source": [
    "#### Test data"
   ]
  },
  {
   "cell_type": "code",
   "execution_count": 10,
   "metadata": {
    "collapsed": true
   },
   "outputs": [],
   "source": [
    "test_df = pd.read_hdf('data/epigenetic_aging_model/CombatNormalizedTestData.h5','methy_mat')\n",
    "test_covs = pd.read_hdf('data/epigenetic_aging_model/CombatNormalizedTestData.h5','covariates')"
   ]
  },
  {
   "cell_type": "code",
   "execution_count": 11,
   "metadata": {
    "collapsed": false
   },
   "outputs": [
    {
     "data": {
      "text/plain": [
       "(66, 7628)"
      ]
     },
     "execution_count": 11,
     "metadata": {},
     "output_type": "execute_result"
    }
   ],
   "source": [
    "test_df.shape"
   ]
  },
  {
   "cell_type": "markdown",
   "metadata": {},
   "source": [
    "### Model training"
   ]
  },
  {
   "cell_type": "markdown",
   "metadata": {},
   "source": [
    "#### Cross-validation with the optimal parameters"
   ]
  },
  {
   "cell_type": "markdown",
   "metadata": {},
   "source": [
    "Since this is random, the CV results are written in a file shown below. Recommend just reading it back in"
   ]
  },
  {
   "cell_type": "code",
   "execution_count": 12,
   "metadata": {
    "collapsed": true
   },
   "outputs": [],
   "source": [
    "#folds = cross_validation.StratifiedKFold(training_covs['age_groupings'],n_folds=4,shuffle=True)\n",
    "#enet = linear_model.ElasticNet(alpha=alph,l1_ratio=lirat,max_iter=10000)\n",
    "#fold_cv_adjusted = []\n",
    "#for i,(train_inds,test_inds) in enumerate(folds):\n",
    "#    print 'Starting fold {}'.format(i)\n",
    "#    X_train_n,Y_train_n = training_df.iloc[train_inds],training_covs.iloc[train_inds]['age_days']\n",
    "#    X_test,Y_test = training_df.iloc[test_inds],training_covs.iloc[test_inds]['age_days']\n",
    "#    mod_fold = enet.fit(X_train_n,Y_train_n)\n",
    "#    fold_ages = apply_model(mod_fold,X_test)\n",
    "#    df_fold = pd.concat([(2**Y_test/30.42).round(1),fold_ages],keys=('actual','predicted'),axis=1)\n",
    "#    df_fold['fold'] = i\n",
    "#    fold_cv_adjusted.append(df_fold)\n",
    "#cv_results = pd.concat(fold_cv_adjusted)\n",
    "#cv_results['fold']=cv_results['fold']+1"
   ]
  },
  {
   "cell_type": "code",
   "execution_count": 13,
   "metadata": {
    "collapsed": true
   },
   "outputs": [],
   "source": [
    "#cv_results.to_csv('data/epigenetic_aging_model/Cross_Validation_Results_optimal_parameters.txt',sep='\\t',header=True,index=False)"
   ]
  },
  {
   "cell_type": "code",
   "execution_count": 14,
   "metadata": {
    "collapsed": true
   },
   "outputs": [],
   "source": [
    "cv_results = pd.read_csv('data/epigenetic_aging_model/Cross_Validation_Results_optimal_parameters.txt',sep='\\t',header=0,index_col=None)"
   ]
  },
  {
   "cell_type": "markdown",
   "metadata": {},
   "source": [
    "#### Train full model"
   ]
  },
  {
   "cell_type": "code",
   "execution_count": 15,
   "metadata": {
    "collapsed": true
   },
   "outputs": [],
   "source": [
    "enet = linear_model.ElasticNet(alpha=alph,l1_ratio=lirat,max_iter=10000)\n",
    "mod = enet.fit(training_df,training_covs['age_days'])"
   ]
  },
  {
   "cell_type": "markdown",
   "metadata": {},
   "source": [
    "#### Test full model"
   ]
  },
  {
   "cell_type": "code",
   "execution_count": 16,
   "metadata": {
    "collapsed": true
   },
   "outputs": [],
   "source": [
    "interventions_age = apply_model(mod,test_df)\n",
    "test_df_results = test_covs.join(interventions_age)"
   ]
  },
  {
   "cell_type": "code",
   "execution_count": 17,
   "metadata": {
    "collapsed": false
   },
   "outputs": [
    {
     "data": {
      "text/plain": [
       "148"
      ]
     },
     "execution_count": 17,
     "metadata": {},
     "output_type": "execute_result"
    }
   ],
   "source": [
    "(mod.coef_!=0).sum()"
   ]
  },
  {
   "cell_type": "markdown",
   "metadata": {},
   "source": [
    "### Plots used in paper"
   ]
  },
  {
   "cell_type": "code",
   "execution_count": 18,
   "metadata": {
    "collapsed": false
   },
   "outputs": [],
   "source": [
    "plotdf = format_predictions_df(test_df_results)\n",
    "normal_plotdf = plotdf.loc[plotdf.treatment2=='untreated']"
   ]
  },
  {
   "cell_type": "code",
   "execution_count": 19,
   "metadata": {
    "collapsed": false
   },
   "outputs": [],
   "source": [
    "map_mouse2 = {'22m Ames':'Ames', '2m UMHET3':'UMHET3', '2m Ames':'Ames', '22m UMHET3':'UMHET3', '2.1m C57BL6':'C57BL6',\n",
    "       '22m Ames dwarf':'Dwarf', '2m Ames dwarf':'Dwarf', '22m UMHET3 Rapa':'Rapa',\n",
    "       '22m UMHET3 CR':'CR'}\n",
    "plotdf['mouse2'] = plotdf['mouse'].map(map_mouse2)"
   ]
  },
  {
   "cell_type": "markdown",
   "metadata": {},
   "source": [
    "#### Figure 2A and Figure 2B"
   ]
  },
  {
   "cell_type": "code",
   "execution_count": 20,
   "metadata": {
    "collapsed": true
   },
   "outputs": [],
   "source": [
    "corr_per_fold = [grp['actual'].corr(grp['predicted']) for k,grp in cv_results.groupby('fold')]"
   ]
  },
  {
   "cell_type": "code",
   "execution_count": 21,
   "metadata": {
    "collapsed": false
   },
   "outputs": [
    {
     "data": {
      "text/plain": [
       "[0.92108063293879294,\n",
       " 0.91993156435159673,\n",
       " 0.92925822116168866,\n",
       " 0.85363365292777738]"
      ]
     },
     "execution_count": 21,
     "metadata": {},
     "output_type": "execute_result"
    }
   ],
   "source": [
    "corr_per_fold"
   ]
  },
  {
   "cell_type": "code",
   "execution_count": 22,
   "metadata": {
    "collapsed": false
   },
   "outputs": [
    {
     "data": {
      "image/png": "[encoded data removed]",
      "text/plain": [
       "<matplotlib.figure.Figure at 0x7fbdd4997ed0>"
      ]
     },
     "metadata": {},
     "output_type": "display_data"
    }
   ],
   "source": [
    "loc1 = (0.999,-0.25)\n",
    "loc2 = (0.85,-0.25)\n",
    "#loc3 = (1,-0.15)\n",
    "f,axes = plt.subplots(1,2,figsize=(6,2))\n",
    "make_cv_figplot_log(cv_results,axes[0],loc1,markersize=25,range_end_treat=28)\n",
    "make_test_plot(plotdf,axes[1],loc2,markersize=25,range_end_treat=28)\n",
    "#make_residuals_plot(normal_plotdf,'treatment',sns.color_palette('Paired',n_colors=normal_plotdf['mouse'].unique().shape[0]),loc3,axes[2],norm_mouse_order,swarmsize=4,split=False)\n",
    "f.subplots_adjust(wspace=0.75)\n",
    "#f.savefig('plots/LogAge_ControlElasticNetPerformance_noRes_logCV.pdf',dpi=700,bbox_inches='tight')\n",
    "plt.show()\n",
    "plt.close()"
   ]
  },
  {
   "cell_type": "code",
   "execution_count": 23,
   "metadata": {
    "collapsed": false
   },
   "outputs": [
    {
     "data": {
      "image/png": "[encoded data removed]",
      "text/plain": [
       "<matplotlib.figure.Figure at 0x7fbdd4980f50>"
      ]
     },
     "metadata": {},
     "output_type": "display_data"
    }
   ],
   "source": [
    "f,axes = plt.subplots(1,2,figsize=(6,2))\n",
    "loc2 = (0.9,-0.25)\n",
    "loc3 = (0.7,-0.25)\n",
    "#make_cv_figplot(cv_results_dict[cat_base],tt_plotdf,axes[0],loc1,range_end_treat=25)\n",
    "make_interventions_plot(plotdf,axes[0],loc2,range_end_treat=25,offset_ages_amt=0.5,markersize=25,rescale=False)\n",
    "plotdf_sub = plotdf[plotdf['mouse2']!='C57BL6']\n",
    "make_residuals_plot(plotdf_sub,'mouse2',sns.color_palette('Greys',n_colors=2),loc3,axes[1],[2,22],swarmsize=5,split=True,despine_bottom=False,hue_col='ChronAgeMonth',n_col=2,order=['Ames','Dwarf','UMHET3','Rapa','CR'],rescaled=False)\n",
    "f.subplots_adjust(hspace=0.65,wspace=0.75)\n",
    "plt.show()\n",
    "plt.close()"
   ]
  },
  {
   "cell_type": "markdown",
   "metadata": {},
   "source": [
    "### Statistical tests"
   ]
  },
  {
   "cell_type": "markdown",
   "metadata": {},
   "source": [
    "#### Statistical tests controls"
   ]
  },
  {
   "cell_type": "code",
   "execution_count": 24,
   "metadata": {
    "collapsed": false
   },
   "outputs": [],
   "source": [
    "df = plotdf\n",
    "control_dfs = df.loc[(df.treatment2=='untreated') | df.Study.isin(['SRP032932'])]\n",
    "controls_2m = control_dfs.loc[control_dfs.Age_month<22]\n",
    "controls_22 = control_dfs.loc[control_dfs.Age_month==22]\n",
    "controls_miller = control_dfs.loc[control_dfs.Study == 'Miller']\n",
    "controls_ames = control_dfs.loc[control_dfs.Study == 'Ames']\n",
    "controls_srp = control_dfs.loc[control_dfs.Study == 'SRP032932']\n",
    "pv_2 = stats.f_oneway(*[grp['EpiAgeMonths'] for k,grp in controls_2m.groupby('Study')])[1]\n",
    "pv_22 = stats.f_oneway(*[grp['EpiAgeMonths'] for k,grp in controls_22.groupby('Study')])[1]\n",
    "pv_2v22 = stats.f_oneway(*[grp['EpiAgeMonths'] for k,grp in control_dfs.groupby('Age_month')])[1]\n",
    "pv_miller2v22 = stats.f_oneway(*[grp['EpiAgeMonths'] for k,grp in controls_miller.groupby('Age_month')])[1]\n",
    "pv_ames2v22 = stats.f_oneway(*[grp['EpiAgeMonths'] for k,grp in controls_ames.groupby('Age_month')])[1]\n",
    "anova_control_bycat = [pv_2,pv_22,pv_2v22,pv_miller2v22,pv_ames2v22]\n",
    "anova_control_bycat = pd.DataFrame(anova_control_bycat,index=['2m Ames/UMHET3/C57BL6','22m UMHET3 v 22m Ames','2m v 22m UMHET or Ames (ANOVA)','2m v 22m (Ames)','2m v 22m (UMHET3)'],columns=['pvalue'])"
   ]
  },
  {
   "cell_type": "code",
   "execution_count": 25,
   "metadata": {
    "collapsed": false
   },
   "outputs": [
    {
     "data": {
      "text/html": [
       "<div>\n",
       "<table border=\"1\" class=\"dataframe\">\n",
       "  <thead>\n",
       "    <tr style=\"text-align: right;\">\n",
       "      <th></th>\n",
       "      <th>pvalue</th>\n",
       "    </tr>\n",
       "  </thead>\n",
       "  <tbody>\n",
       "    <tr>\n",
       "      <th>2m Ames/UMHET3/C57BL6</th>\n",
       "      <td>6.145405e-01</td>\n",
       "    </tr>\n",
       "    <tr>\n",
       "      <th>22m UMHET3 v 22m Ames</th>\n",
       "      <td>9.443491e-01</td>\n",
       "    </tr>\n",
       "    <tr>\n",
       "      <th>2m v 22m UMHET or Ames (ANOVA)</th>\n",
       "      <td>6.274232e-35</td>\n",
       "    </tr>\n",
       "    <tr>\n",
       "      <th>2m v 22m (Ames)</th>\n",
       "      <td>3.786270e-05</td>\n",
       "    </tr>\n",
       "    <tr>\n",
       "      <th>2m v 22m (UMHET3)</th>\n",
       "      <td>1.559034e-03</td>\n",
       "    </tr>\n",
       "  </tbody>\n",
       "</table>\n",
       "</div>"
      ],
      "text/plain": [
       "                                      pvalue\n",
       "2m Ames/UMHET3/C57BL6           6.145405e-01\n",
       "22m UMHET3 v 22m Ames           9.443491e-01\n",
       "2m v 22m UMHET or Ames (ANOVA)  6.274232e-35\n",
       "2m v 22m (Ames)                 3.786270e-05\n",
       "2m v 22m (UMHET3)               1.559034e-03"
      ]
     },
     "execution_count": 25,
     "metadata": {},
     "output_type": "execute_result"
    }
   ],
   "source": [
    "anova_control_bycat"
   ]
  },
  {
   "cell_type": "markdown",
   "metadata": {},
   "source": [
    "#### Statistical tests treatments"
   ]
  },
  {
   "cell_type": "code",
   "execution_count": 29,
   "metadata": {
    "collapsed": false
   },
   "outputs": [],
   "source": [
    "dict_means = {k:grp['EpiAgeMonths'].mean() for k,grp in plotdf_sub.groupby('mouse')}"
   ]
  },
  {
   "cell_type": "code",
   "execution_count": 30,
   "metadata": {
    "collapsed": true
   },
   "outputs": [],
   "source": [
    "pairings = [('2m Ames','2m Ames dwarf'),('22m Ames','22m Ames dwarf'),('22m UMHET3','22m UMHET3 Rapa'),('22m UMHET3','22m UMHET3 CR')]\n",
    "ttest_df = []\n",
    "for control,treatment in pairings:\n",
    "    pval = stats.ttest_ind(plotdf_sub.loc[plotdf_sub.mouse==control,'RescaledEpiAges'],plotdf_sub.loc[plotdf_sub.mouse==treatment,'RescaledEpiAges'])[1]\n",
    "    control_mean = dict_means[control]\n",
    "    treat_mean = dict_means[treatment]\n",
    "    effectsize = control_mean - treat_mean\n",
    "    ttest_df.append([control,treatment,control_mean,treat_mean,effectsize,pval])\n",
    "ttest_df = pd.DataFrame(ttest_df,columns=['control','treatment','control mean','treat mean','control - treatment (means)','pval'])"
   ]
  },
  {
   "cell_type": "code",
   "execution_count": 31,
   "metadata": {
    "collapsed": false
   },
   "outputs": [
    {
     "data": {
      "text/html": [
       "<div>\n",
       "<table border=\"1\" class=\"dataframe\">\n",
       "  <thead>\n",
       "    <tr style=\"text-align: right;\">\n",
       "      <th></th>\n",
       "      <th>control</th>\n",
       "      <th>treatment</th>\n",
       "      <th>control mean</th>\n",
       "      <th>treat mean</th>\n",
       "      <th>control - treatment (means)</th>\n",
       "      <th>pval</th>\n",
       "    </tr>\n",
       "  </thead>\n",
       "  <tbody>\n",
       "    <tr>\n",
       "      <th>0</th>\n",
       "      <td>2m Ames</td>\n",
       "      <td>2m Ames dwarf</td>\n",
       "      <td>2.312036</td>\n",
       "      <td>0.793394</td>\n",
       "      <td>1.518642</td>\n",
       "      <td>0.000527</td>\n",
       "    </tr>\n",
       "    <tr>\n",
       "      <th>1</th>\n",
       "      <td>22m Ames</td>\n",
       "      <td>22m Ames dwarf</td>\n",
       "      <td>16.731655</td>\n",
       "      <td>6.647305</td>\n",
       "      <td>10.084350</td>\n",
       "      <td>0.001555</td>\n",
       "    </tr>\n",
       "    <tr>\n",
       "      <th>2</th>\n",
       "      <td>22m UMHET3</td>\n",
       "      <td>22m UMHET3 Rapa</td>\n",
       "      <td>16.880221</td>\n",
       "      <td>10.893847</td>\n",
       "      <td>5.986374</td>\n",
       "      <td>0.024796</td>\n",
       "    </tr>\n",
       "    <tr>\n",
       "      <th>3</th>\n",
       "      <td>22m UMHET3</td>\n",
       "      <td>22m UMHET3 CR</td>\n",
       "      <td>16.880221</td>\n",
       "      <td>7.501843</td>\n",
       "      <td>9.378378</td>\n",
       "      <td>0.000037</td>\n",
       "    </tr>\n",
       "  </tbody>\n",
       "</table>\n",
       "</div>"
      ],
      "text/plain": [
       "      control        treatment  control mean  treat mean  \\\n",
       "0     2m Ames    2m Ames dwarf      2.312036    0.793394   \n",
       "1    22m Ames   22m Ames dwarf     16.731655    6.647305   \n",
       "2  22m UMHET3  22m UMHET3 Rapa     16.880221   10.893847   \n",
       "3  22m UMHET3    22m UMHET3 CR     16.880221    7.501843   \n",
       "\n",
       "   control - treatment (means)      pval  \n",
       "0                     1.518642  0.000527  \n",
       "1                    10.084350  0.001555  \n",
       "2                     5.986374  0.024796  \n",
       "3                     9.378378  0.000037  "
      ]
     },
     "execution_count": 31,
     "metadata": {},
     "output_type": "execute_result"
    }
   ],
   "source": [
    "ttest_df"
   ]
  },
  {
   "cell_type": "code",
   "execution_count": 32,
   "metadata": {
    "collapsed": false
   },
   "outputs": [
    {
     "data": {
      "text/plain": [
       "F_onewayResult(statistic=19.622269048418527, pvalue=2.0404193708883521e-05)"
      ]
     },
     "execution_count": 32,
     "metadata": {},
     "output_type": "execute_result"
    }
   ],
   "source": [
    "#Anova for 22 month old mice\n",
    "stats.f_oneway(*[grp['RescaledEpiAges'] for k,grp in plotdf_sub.loc[plotdf_sub.Age_month==22].groupby('mouse')])"
   ]
  },
  {
   "cell_type": "code",
   "execution_count": 33,
   "metadata": {
    "collapsed": false
   },
   "outputs": [
    {
     "data": {
      "text/plain": [
       "F_onewayResult(statistic=19.178144883706317, pvalue=0.00088700337495615838)"
      ]
     },
     "execution_count": 33,
     "metadata": {},
     "output_type": "execute_result"
    }
   ],
   "source": [
    "#Anova for 22 month old Miller mice\n",
    "stats.f_oneway(*[grp['RescaledEpiAges'] for k,grp in plotdf_sub.loc[(plotdf_sub.Age_month==22) & (plotdf_sub.Study=='Miller')].groupby('mouse')])"
   ]
  },
  {
   "cell_type": "code",
   "execution_count": null,
   "metadata": {
    "collapsed": true
   },
   "outputs": [],
   "source": []
  }
 ],
 "metadata": {
  "kernelspec": {
   "display_name": "Python 2",
   "language": "python",
   "name": "python2"
  },
  "language_info": {
   "codemirror_mode": {
    "name": "ipython",
    "version": 2
   },
   "file_extension": ".py",
   "mimetype": "text/x-python",
   "name": "python",
   "nbconvert_exporter": "python",
   "pygments_lexer": "ipython2",
   "version": "2.7.12"
  }
 },
 "nbformat": 4,
 "nbformat_minor": 0
}
