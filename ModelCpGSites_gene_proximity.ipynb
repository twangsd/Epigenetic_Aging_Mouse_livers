{
 "cells": [
  {
   "cell_type": "markdown",
   "metadata": {},
   "source": [
    "In this notebook, we assign the CpG sites to the nearest genes and also assess enrichment for genic features and also for Enhancers. We looked at more, but since Enhancers showed the greatest enrichment and since many of these histone features are often overlapping, we wanted to specifically look at Enhancers in the context of other genic features (promoters, intronic, exonic and intergenic regions)."
   ]
  },
  {
   "cell_type": "code",
   "execution_count": 1,
   "metadata": {
    "collapsed": true
   },
   "outputs": [],
   "source": [
    "from __future__ import division\n",
    "import os\n",
    "import numpy as np\n",
    "import random \n",
    "import pandas as pd\n",
    "import seaborn as sns\n",
    "import matplotlib.pyplot as plt\n",
    "import matplotlib as mpl\n",
    "mpl.rcParams['pdf.fonttype'] = 42\n",
    "mpl.rcParams['legend.numpoints'] = 1\n",
    "%matplotlib inline\n",
    "import itertools\n",
    "\n",
    "import imp\n",
    "twto = imp.load_source('twto','scripts/twang_toolbox.py')\n",
    "meth = imp.load_source('meth','scripts/methy_parsing.py')\n",
    "\n",
    "from sklearn import cross_validation, linear_model, metrics\n",
    "import statsmodels.api as sm\n",
    "import statsmodels.formula.api as smf\n",
    "import statsmodels.sandbox.stats as smstats\n",
    "import scipy.stats as stats\n",
    "import scipy.cluster.hierarchy as hac"
   ]
  },
  {
   "cell_type": "code",
   "execution_count": 2,
   "metadata": {
    "collapsed": true
   },
   "outputs": [],
   "source": [
    "#Used in paper\n",
    "sns.set(context = \"paper\", style='ticks',rc={\"font.size\":9,\"legend.fontsize\":8,\"axes.titlesize\":12,\n",
    "                             \"axes.labelsize\":8,\"xtick.labelsize\":6,\"ytick.labelsize\":6, 'xtick.major.size': 3.0,\n",
    " 'xtick.minor.size': 1.0,'ytick.major.size': 3.0,\n",
    " 'ytick.minor.size': 1.0})"
   ]
  },
  {
   "cell_type": "code",
   "execution_count": 3,
   "metadata": {
    "collapsed": true
   },
   "outputs": [],
   "source": [
    "sns.set(context='notebook',style='ticks')"
   ]
  },
  {
   "cell_type": "code",
   "execution_count": 4,
   "metadata": {
    "collapsed": false
   },
   "outputs": [],
   "source": [
    "cpg_sites_f = 'data/epigenetic_aging_model/EnetSites_with_weights.txt'\n",
    "cpg_sites_weights = pd.read_csv(cpg_sites_f,sep='\\t',header=None,index_col=None,names=['ConcatSite','Weight'])"
   ]
  },
  {
   "cell_type": "code",
   "execution_count": 5,
   "metadata": {
    "collapsed": false
   },
   "outputs": [
    {
     "data": {
      "text/html": [
       "<div>\n",
       "<table border=\"1\" class=\"dataframe\">\n",
       "  <thead>\n",
       "    <tr style=\"text-align: right;\">\n",
       "      <th></th>\n",
       "      <th>ConcatSite</th>\n",
       "      <th>Weight</th>\n",
       "    </tr>\n",
       "  </thead>\n",
       "  <tbody>\n",
       "    <tr>\n",
       "      <th>0</th>\n",
       "      <td>10:127750968:127750969</td>\n",
       "      <td>0.115239</td>\n",
       "    </tr>\n",
       "    <tr>\n",
       "      <th>1</th>\n",
       "      <td>10:67548087:67548088</td>\n",
       "      <td>0.153033</td>\n",
       "    </tr>\n",
       "    <tr>\n",
       "      <th>2</th>\n",
       "      <td>10:80810498:80810499</td>\n",
       "      <td>0.148354</td>\n",
       "    </tr>\n",
       "    <tr>\n",
       "      <th>3</th>\n",
       "      <td>10:80971848:80971849</td>\n",
       "      <td>-0.223936</td>\n",
       "    </tr>\n",
       "    <tr>\n",
       "      <th>4</th>\n",
       "      <td>10:80971894:80971895</td>\n",
       "      <td>-0.686181</td>\n",
       "    </tr>\n",
       "  </tbody>\n",
       "</table>\n",
       "</div>"
      ],
      "text/plain": [
       "               ConcatSite    Weight\n",
       "0  10:127750968:127750969  0.115239\n",
       "1    10:67548087:67548088  0.153033\n",
       "2    10:80810498:80810499  0.148354\n",
       "3    10:80971848:80971849 -0.223936\n",
       "4    10:80971894:80971895 -0.686181"
      ]
     },
     "execution_count": 5,
     "metadata": {},
     "output_type": "execute_result"
    }
   ],
   "source": [
    "cpg_sites_weights.head()"
   ]
  },
  {
   "cell_type": "markdown",
   "metadata": {},
   "source": [
    "Ran closestBed with the bed format of the epigenetic aging sites, and using the mapped version of Ensembl67 gene names (mm9 to mm10), this was done to keep the same gene annotation as what was used in Supplementary Figure 1, and also kept epigenomic features because I thought it might be interesting if the site fell into this region. The output of this process was saved in 'data/epigenetic_aging_model/EnetSites_intersectedFeatures.txt'"
   ]
  },
  {
   "cell_type": "code",
   "execution_count": 6,
   "metadata": {
    "collapsed": true
   },
   "outputs": [],
   "source": [
    "closest_bed = 'data/epigenetic_aging_model/EnetSites_intersectedFeatures.txt'\n",
    "df_closest_features = pd.read_csv(closest_bed,sep='\\t',header=None,index_col=None)"
   ]
  },
  {
   "cell_type": "code",
   "execution_count": 7,
   "metadata": {
    "collapsed": false
   },
   "outputs": [],
   "source": [
    "df_closest_features.columns = ['chr','start','stop','filename','chr_feature','start_feature','stop_feature','geneName','distance']"
   ]
  },
  {
   "cell_type": "code",
   "execution_count": 8,
   "metadata": {
    "collapsed": false
   },
   "outputs": [],
   "source": [
    "index_null = df_closest_features[df_closest_features['distance'].isnull()].index\n",
    "df_closest_features_format = df_closest_features.copy(deep=True)\n",
    "df_closest_features_format.loc[index_null,'distance'] = df_closest_features_format.loc[index_null,'geneName'].astype(int)\n",
    "df_closest_features_format.loc[index_null,'geneName'] = np.nan"
   ]
  },
  {
   "cell_type": "code",
   "execution_count": 9,
   "metadata": {
    "collapsed": false
   },
   "outputs": [],
   "source": [
    "df_closest_features_format['ConcatSite'] =[':'.join(map(lambda y: str(y),x)) for x in df_closest_features_format[['chr','start','stop']].values]"
   ]
  },
  {
   "cell_type": "code",
   "execution_count": 10,
   "metadata": {
    "collapsed": false
   },
   "outputs": [],
   "source": [
    "df_closest_features_format_overlap = df_closest_features_format[df_closest_features_format['distance']==0]"
   ]
  },
  {
   "cell_type": "code",
   "execution_count": 11,
   "metadata": {
    "collapsed": false
   },
   "outputs": [],
   "source": [
    "#df_closest_features_overlapping[['chr','start','stop']].drop_duplicates()\n",
    "#125 unique overlapping sites, meaning 23 are somewhere else\n",
    "unique_sites_overlapping = df_closest_features_format_overlap['ConcatSite'].unique()"
   ]
  },
  {
   "cell_type": "code",
   "execution_count": 12,
   "metadata": {
    "collapsed": false
   },
   "outputs": [],
   "source": [
    "df_not_overlapping = df_closest_features_format.loc[~df_closest_features_format['ConcatSite'].isin(unique_sites_overlapping)]"
   ]
  },
  {
   "cell_type": "markdown",
   "metadata": {},
   "source": [
    "For the sites overlapping an annotation, there could be several genes or other features. I will try and parse them out for each CpG site by whether they are a gene and/or in a feature as well. Then for the not overlapping sites, I will choose the closest feature, either by gene or other genomic feature, and fill it in. If there are ties, gene will get priority and then other features."
   ]
  },
  {
   "cell_type": "code",
   "execution_count": 13,
   "metadata": {
    "collapsed": false
   },
   "outputs": [
    {
     "name": "stderr",
     "output_type": "stream",
     "text": [
      "/cellar/users/twang/anaconda/lib/python2.7/site-packages/ipykernel/__main__.py:1: SettingWithCopyWarning: \n",
      "A value is trying to be set on a copy of a slice from a DataFrame.\n",
      "Try using .loc[row_indexer,col_indexer] = value instead\n",
      "\n",
      "See the caveats in the documentation: http://pandas.pydata.org/pandas-docs/stable/indexing.html#indexing-view-versus-copy\n",
      "  if __name__ == '__main__':\n"
     ]
    }
   ],
   "source": [
    "df_closest_features_format_overlap['filename'] = [x.split('_mapped.bed.sorted')[0] for x in df_closest_features_format_overlap['filename'].values]"
   ]
  },
  {
   "cell_type": "code",
   "execution_count": 14,
   "metadata": {
    "collapsed": false
   },
   "outputs": [],
   "source": [
    "pivot_features = []\n",
    "for k, grp in df_closest_features_format_overlap.groupby('ConcatSite'):\n",
    "    histone_features = '; '.join([x.split('_')[0] for x in grp.loc[grp['filename'] !='EnsemblExons67.KnownCodingGenes.GeneNames','filename'].values])\n",
    "    gene_names = '; '.join(grp.loc[grp['filename'] =='EnsemblExons67.KnownCodingGenes.GeneNames','geneName'].values)\n",
    "    pivot_features.append([k,gene_names,histone_features,0,0])\n",
    "pivot_features = pd.DataFrame(pivot_features,columns=['ConcatSite','nearest_genes','nearest_HistoneFeatures','gene_distance','nearest_histone_distance'])"
   ]
  },
  {
   "cell_type": "code",
   "execution_count": 15,
   "metadata": {
    "collapsed": false
   },
   "outputs": [],
   "source": [
    "#Converting Ensembl gene IDs to MGI gene symbols with description\n",
    "gene_name_f = 'data/epigenetic_aging_model/Ensembl67Gene_to_MGI_GeneSymbol.txt'\n",
    "gene_name_df = pd.read_csv(gene_name_f,sep='\\t',header=0,index_col=None)\n",
    "gene_name_to_mgiSy = {x[0]:['',x[1]][x[1] not in [np.nan]] for x in gene_name_df[['Ensembl Gene ID','MGI symbol']].values}\n",
    "gene_name_to_mgiDesc = {x[0]:['',x[1]][x[1] not in [np.nan]] for x in gene_name_df[['Ensembl Gene ID','MGI Description']].values}\n",
    "pivot_features['MGI Name'] = [[x,'; '.join([gene_name_to_mgiSy[y] for y in x.split('; ') if x !=''])][x!=''] for x in pivot_features['nearest_genes'].values]\n",
    "pivot_features['MGI Description'] = [[x,'; '.join([gene_name_to_mgiDesc[y] for y in x.split('; ') if x !=''])][x!=''] for x in pivot_features['nearest_genes'].values]"
   ]
  },
  {
   "cell_type": "code",
   "execution_count": 16,
   "metadata": {
    "collapsed": false
   },
   "outputs": [],
   "source": [
    "#For regions where nearest_genes are blank, we fill with the closest Gene if present\n",
    "index_null_genes = pivot_features.loc[pivot_features['nearest_genes'] == '','ConcatSite']\n",
    "#Fill in null genes with their ensembl ID for closest if it exists\n",
    "nearest_genes_overlapping_others = df_closest_features_format[(df_closest_features_format['ConcatSite'].isin(index_null_genes)) & (df_closest_features_format['filename'].str.startswith('EnsemblExon'))]\n",
    "map_site2gene = {k:val for k,val in nearest_genes_overlapping_others[['ConcatSite','geneName']].values}\n",
    "map_site2genedist = {k:val for k,val in nearest_genes_overlapping_others[['ConcatSite','distance']].values}"
   ]
  },
  {
   "cell_type": "code",
   "execution_count": 17,
   "metadata": {
    "collapsed": true
   },
   "outputs": [],
   "source": [
    "pivot_features.loc[pivot_features['ConcatSite'].isin(index_null_genes),'nearest_genes'] = pivot_features.loc[pivot_features['ConcatSite'].isin(index_null_genes),'ConcatSite'].map(map_site2gene)\n",
    "pivot_features.loc[pivot_features['ConcatSite'].isin(index_null_genes),'gene_distance'] = pivot_features.loc[pivot_features['ConcatSite'].isin(index_null_genes),'ConcatSite'].map(map_site2genedist)\n",
    "pivot_features.loc[pivot_features['ConcatSite'].isin(index_null_genes),'MGI Name'] = [[x,'; '.join([gene_name_to_mgiSy[y] for y in x.split('; ') if x !=''])][x!=''] for x in pivot_features.loc[pivot_features['ConcatSite'].isin(index_null_genes),'nearest_genes'].values]\n",
    "pivot_features.loc[pivot_features['ConcatSite'].isin(index_null_genes),'MGI Description'] = [[x,'; '.join([gene_name_to_mgiDesc[y] for y in x.split('; ') if x !=''])][x!=''] for x in pivot_features.loc[pivot_features['ConcatSite'].isin(index_null_genes),'nearest_genes'].values]"
   ]
  },
  {
   "cell_type": "code",
   "execution_count": 19,
   "metadata": {
    "collapsed": false
   },
   "outputs": [],
   "source": [
    "#Find index corresponding to null histones and set their distance to none\n",
    "#This was done because it is unclear if there is a biological effect of being near a histone feature versus directly overlapping the boundaries\n",
    "#Thus, we have chosen to omit this. \n",
    "index_null_histones = pivot_features.loc[pivot_features['nearest_HistoneFeatures'] == '','ConcatSite']\n",
    "pivot_features.loc[pivot_features['ConcatSite'].isin(index_null_histones),'nearest_histone_distance'] = np.nan"
   ]
  },
  {
   "cell_type": "code",
   "execution_count": 20,
   "metadata": {
    "collapsed": false
   },
   "outputs": [],
   "source": [
    "#Rename columns\n",
    "pivot_features.columns = ['ConcatSite','nearest_gene','HistoneFeatures','nearest_gene_distance','histone_distance','MGI Name','MGI Description']"
   ]
  },
  {
   "cell_type": "code",
   "execution_count": 21,
   "metadata": {
    "collapsed": false
   },
   "outputs": [
    {
     "data": {
      "text/html": [
       "<div>\n",
       "<table border=\"1\" class=\"dataframe\">\n",
       "  <thead>\n",
       "    <tr style=\"text-align: right;\">\n",
       "      <th></th>\n",
       "      <th>ConcatSite</th>\n",
       "      <th>nearest_gene</th>\n",
       "      <th>HistoneFeatures</th>\n",
       "      <th>nearest_gene_distance</th>\n",
       "      <th>histone_distance</th>\n",
       "      <th>MGI Name</th>\n",
       "      <th>MGI Description</th>\n",
       "    </tr>\n",
       "  </thead>\n",
       "  <tbody>\n",
       "    <tr>\n",
       "      <th>0</th>\n",
       "      <td>10:127750968:127750969</td>\n",
       "      <td>ENSMUSG00000058396</td>\n",
       "      <td>Enhancers; H3K27ac; H3K36me3; H3K4me1; H3K4me3...</td>\n",
       "      <td>0.0</td>\n",
       "      <td>0.0</td>\n",
       "      <td>Gpr182</td>\n",
       "      <td>G protein-coupled receptor 182</td>\n",
       "    </tr>\n",
       "    <tr>\n",
       "      <th>1</th>\n",
       "      <td>10:67548087:67548088</td>\n",
       "      <td>ENSMUSG00000057134</td>\n",
       "      <td>Enhancers; H3K27ac; H3K4me1; H3K4me3; H3K79me2...</td>\n",
       "      <td>0.0</td>\n",
       "      <td>0.0</td>\n",
       "      <td>Ado</td>\n",
       "      <td>2-aminoethanethiol (cysteamine) dioxygenase</td>\n",
       "    </tr>\n",
       "    <tr>\n",
       "      <th>2</th>\n",
       "      <td>10:80810498:80810499</td>\n",
       "      <td>ENSMUSG00000020216</td>\n",
       "      <td>H3K27me3</td>\n",
       "      <td>0.0</td>\n",
       "      <td>0.0</td>\n",
       "      <td>Jsrp1</td>\n",
       "      <td>junctional sarcoplasmic reticulum protein 1</td>\n",
       "    </tr>\n",
       "    <tr>\n",
       "      <th>3</th>\n",
       "      <td>10:80971848:80971849</td>\n",
       "      <td>ENSMUSG00000048240</td>\n",
       "      <td>Enhancers; H3K27ac; H3K4me1; H3K9ac</td>\n",
       "      <td>0.0</td>\n",
       "      <td>0.0</td>\n",
       "      <td>Gng7</td>\n",
       "      <td>guanine nucleotide binding protein (G protein)...</td>\n",
       "    </tr>\n",
       "    <tr>\n",
       "      <th>4</th>\n",
       "      <td>10:80971894:80971895</td>\n",
       "      <td>ENSMUSG00000048240</td>\n",
       "      <td>Enhancers; H3K27ac; H3K4me1; H3K9ac</td>\n",
       "      <td>0.0</td>\n",
       "      <td>0.0</td>\n",
       "      <td>Gng7</td>\n",
       "      <td>guanine nucleotide binding protein (G protein)...</td>\n",
       "    </tr>\n",
       "  </tbody>\n",
       "</table>\n",
       "</div>"
      ],
      "text/plain": [
       "               ConcatSite        nearest_gene  \\\n",
       "0  10:127750968:127750969  ENSMUSG00000058396   \n",
       "1    10:67548087:67548088  ENSMUSG00000057134   \n",
       "2    10:80810498:80810499  ENSMUSG00000020216   \n",
       "3    10:80971848:80971849  ENSMUSG00000048240   \n",
       "4    10:80971894:80971895  ENSMUSG00000048240   \n",
       "\n",
       "                                     HistoneFeatures  nearest_gene_distance  \\\n",
       "0  Enhancers; H3K27ac; H3K36me3; H3K4me1; H3K4me3...                    0.0   \n",
       "1  Enhancers; H3K27ac; H3K4me1; H3K4me3; H3K79me2...                    0.0   \n",
       "2                                           H3K27me3                    0.0   \n",
       "3                Enhancers; H3K27ac; H3K4me1; H3K9ac                    0.0   \n",
       "4                Enhancers; H3K27ac; H3K4me1; H3K9ac                    0.0   \n",
       "\n",
       "   histone_distance MGI Name  \\\n",
       "0               0.0   Gpr182   \n",
       "1               0.0      Ado   \n",
       "2               0.0    Jsrp1   \n",
       "3               0.0     Gng7   \n",
       "4               0.0     Gng7   \n",
       "\n",
       "                                     MGI Description  \n",
       "0                     G protein-coupled receptor 182  \n",
       "1        2-aminoethanethiol (cysteamine) dioxygenase  \n",
       "2        junctional sarcoplasmic reticulum protein 1  \n",
       "3  guanine nucleotide binding protein (G protein)...  \n",
       "4  guanine nucleotide binding protein (G protein)...  "
      ]
     },
     "execution_count": 21,
     "metadata": {},
     "output_type": "execute_result"
    }
   ],
   "source": [
    "pivot_features.head()"
   ]
  },
  {
   "cell_type": "markdown",
   "metadata": {},
   "source": [
    "Pick the closest gene for not overlapping sites"
   ]
  },
  {
   "cell_type": "code",
   "execution_count": 22,
   "metadata": {
    "collapsed": false
   },
   "outputs": [
    {
     "name": "stderr",
     "output_type": "stream",
     "text": [
      "/cellar/users/twang/anaconda/lib/python2.7/site-packages/ipykernel/__main__.py:1: SettingWithCopyWarning: \n",
      "A value is trying to be set on a copy of a slice from a DataFrame.\n",
      "Try using .loc[row_indexer,col_indexer] = value instead\n",
      "\n",
      "See the caveats in the documentation: http://pandas.pydata.org/pandas-docs/stable/indexing.html#indexing-view-versus-copy\n",
      "  if __name__ == '__main__':\n"
     ]
    }
   ],
   "source": [
    "df_not_overlapping['filename'] = [x.split('_mapped.bed.sorted')[0] for x in df_not_overlapping['filename'].values]"
   ]
  },
  {
   "cell_type": "code",
   "execution_count": 23,
   "metadata": {
    "collapsed": false
   },
   "outputs": [
    {
     "data": {
      "text/html": [
       "<div>\n",
       "<table border=\"1\" class=\"dataframe\">\n",
       "  <thead>\n",
       "    <tr style=\"text-align: right;\">\n",
       "      <th></th>\n",
       "      <th>chr</th>\n",
       "      <th>start</th>\n",
       "      <th>stop</th>\n",
       "      <th>filename</th>\n",
       "      <th>chr_feature</th>\n",
       "      <th>start_feature</th>\n",
       "      <th>stop_feature</th>\n",
       "      <th>geneName</th>\n",
       "      <th>distance</th>\n",
       "      <th>ConcatSite</th>\n",
       "    </tr>\n",
       "  </thead>\n",
       "  <tbody>\n",
       "    <tr>\n",
       "      <th>198</th>\n",
       "      <td>11</td>\n",
       "      <td>114655827</td>\n",
       "      <td>114655828</td>\n",
       "      <td>EnsemblExons67.KnownCodingGenes.GeneNames</td>\n",
       "      <td>11</td>\n",
       "      <td>114668524</td>\n",
       "      <td>114672331</td>\n",
       "      <td>ENSMUSG00000057322</td>\n",
       "      <td>12697.0</td>\n",
       "      <td>11:114655827:114655828</td>\n",
       "    </tr>\n",
       "    <tr>\n",
       "      <th>199</th>\n",
       "      <td>11</td>\n",
       "      <td>114655827</td>\n",
       "      <td>114655828</td>\n",
       "      <td>Bivalent</td>\n",
       "      <td>11</td>\n",
       "      <td>114789086</td>\n",
       "      <td>114789485</td>\n",
       "      <td>NaN</td>\n",
       "      <td>133259.0</td>\n",
       "      <td>11:114655827:114655828</td>\n",
       "    </tr>\n",
       "    <tr>\n",
       "      <th>200</th>\n",
       "      <td>11</td>\n",
       "      <td>114655827</td>\n",
       "      <td>114655828</td>\n",
       "      <td>DNase_8w_rep2</td>\n",
       "      <td>11</td>\n",
       "      <td>114667966</td>\n",
       "      <td>114668116</td>\n",
       "      <td>NaN</td>\n",
       "      <td>12139.0</td>\n",
       "      <td>11:114655827:114655828</td>\n",
       "    </tr>\n",
       "    <tr>\n",
       "      <th>201</th>\n",
       "      <td>11</td>\n",
       "      <td>114655827</td>\n",
       "      <td>114655828</td>\n",
       "      <td>Enhancers</td>\n",
       "      <td>11</td>\n",
       "      <td>114669086</td>\n",
       "      <td>114671485</td>\n",
       "      <td>NaN</td>\n",
       "      <td>13259.0</td>\n",
       "      <td>11:114655827:114655828</td>\n",
       "    </tr>\n",
       "    <tr>\n",
       "      <th>202</th>\n",
       "      <td>11</td>\n",
       "      <td>114655827</td>\n",
       "      <td>114655828</td>\n",
       "      <td>H3K27ac</td>\n",
       "      <td>11</td>\n",
       "      <td>114668486</td>\n",
       "      <td>114671485</td>\n",
       "      <td>NaN</td>\n",
       "      <td>12659.0</td>\n",
       "      <td>11:114655827:114655828</td>\n",
       "    </tr>\n",
       "  </tbody>\n",
       "</table>\n",
       "</div>"
      ],
      "text/plain": [
       "     chr      start       stop                                   filename  \\\n",
       "198   11  114655827  114655828  EnsemblExons67.KnownCodingGenes.GeneNames   \n",
       "199   11  114655827  114655828                                   Bivalent   \n",
       "200   11  114655827  114655828                              DNase_8w_rep2   \n",
       "201   11  114655827  114655828                                  Enhancers   \n",
       "202   11  114655827  114655828                                    H3K27ac   \n",
       "\n",
       "     chr_feature  start_feature  stop_feature            geneName  distance  \\\n",
       "198           11      114668524     114672331  ENSMUSG00000057322   12697.0   \n",
       "199           11      114789086     114789485                 NaN  133259.0   \n",
       "200           11      114667966     114668116                 NaN   12139.0   \n",
       "201           11      114669086     114671485                 NaN   13259.0   \n",
       "202           11      114668486     114671485                 NaN   12659.0   \n",
       "\n",
       "                 ConcatSite  \n",
       "198  11:114655827:114655828  \n",
       "199  11:114655827:114655828  \n",
       "200  11:114655827:114655828  \n",
       "201  11:114655827:114655828  \n",
       "202  11:114655827:114655828  "
      ]
     },
     "execution_count": 23,
     "metadata": {},
     "output_type": "execute_result"
    }
   ],
   "source": [
    "df_not_overlapping.head()"
   ]
  },
  {
   "cell_type": "code",
   "execution_count": 24,
   "metadata": {
    "collapsed": false
   },
   "outputs": [],
   "source": [
    "pivot_features_not_overlapping = []\n",
    "for k,grp in df_not_overlapping.groupby('ConcatSite'):\n",
    "    index_nearestfeature = grp['distance'].abs().sort_values().index[0]\n",
    "    index_nearest_gene = grp.loc[grp['filename']=='EnsemblExons67.KnownCodingGenes.GeneNames'].index[0]\n",
    "    nearest_gene = grp.loc[index_nearest_gene]\n",
    "    closest_by_dist = grp.loc[index_nearestfeature]\n",
    "    file_annot = closest_by_dist['filename']\n",
    "    pivot_features_not_overlapping.append([k,nearest_gene['geneName'],file_annot.split('_')[0],nearest_gene['distance'],closest_by_dist['distance']])\n",
    "pivot_features_not_overlapping = pd.DataFrame(pivot_features_not_overlapping,\n",
    "                                              columns=['ConcatSite','nearest_gene','HistoneFeatures','nearest_gene_distance','histone_distance'])"
   ]
  },
  {
   "cell_type": "code",
   "execution_count": 25,
   "metadata": {
    "collapsed": false
   },
   "outputs": [],
   "source": [
    "pivot_features_not_overlapping['MGI Name'] = [[x,'; '.join([gene_name_to_mgiSy[y] for y in x.split('; ') if x !=''])][x!=''] for x in pivot_features_not_overlapping['nearest_gene'].values]\n",
    "pivot_features_not_overlapping['MGI Description'] = [[x,'; '.join([gene_name_to_mgiDesc[y] for y in x.split('; ') if x !=''])][x!=''] for x in pivot_features_not_overlapping['nearest_gene'].values]"
   ]
  },
  {
   "cell_type": "code",
   "execution_count": 26,
   "metadata": {
    "collapsed": false
   },
   "outputs": [],
   "source": [
    "#Concatenate with the overlapping sites\n",
    "features_sites = pd.concat([pivot_features,pivot_features_not_overlapping])"
   ]
  },
  {
   "cell_type": "code",
   "execution_count": 27,
   "metadata": {
    "collapsed": false
   },
   "outputs": [],
   "source": [
    "#Merge with the weights reported to generate one table\n",
    "cpg_sites_weights_features = cpg_sites_weights.merge(features_sites,on='ConcatSite',how='left')"
   ]
  },
  {
   "cell_type": "code",
   "execution_count": 28,
   "metadata": {
    "collapsed": false
   },
   "outputs": [],
   "source": [
    "#Write out the data\n",
    "outf = 'data/epigenetic_aging_model/EnetSites_with_weights_and_features.txt'\n",
    "cpg_sites_weights_features.to_csv(outf,sep='\\t',header=True,index=False)"
   ]
  },
  {
   "cell_type": "markdown",
   "metadata": {},
   "source": [
    "Calculating the enrichment of Age-associated sites by considering all sites that were used to build the model. This was done using intersectBed with features similarly in the evolutionary trends section, except only considering this subset of CpG sites used to train the model. For this analysis we only look at intronic, intergenic "
   ]
  },
  {
   "cell_type": "code",
   "execution_count": 29,
   "metadata": {
    "collapsed": false
   },
   "outputs": [],
   "source": [
    "fintersect = 'data/epigenetic_aging_model/AllSitesConsidered_histones_blockedregions_intersectedAll.txt'\n",
    "df_all_intersects = pd.read_csv(fintersect,sep='\\t',header=None,index_col=None,\n",
    "                                names=['chr','start','stop','filename','chr_feature','start_feature','stop_feature','RegionName'])"
   ]
  },
  {
   "cell_type": "code",
   "execution_count": 30,
   "metadata": {
    "collapsed": false
   },
   "outputs": [],
   "source": [
    "df_all_intersects['sitename'] = [str(x)+':'+str(y)+':'+str(z) for x,y,z in df_all_intersects[['chr','start','stop']].values]"
   ]
  },
  {
   "cell_type": "code",
   "execution_count": 31,
   "metadata": {
    "collapsed": true
   },
   "outputs": [],
   "source": [
    "remove_gene_blocked_regions = df_all_intersects[~df_all_intersects['filename'].str.startswith('mm10_ucsc_gff.bed')]"
   ]
  },
  {
   "cell_type": "code",
   "execution_count": 32,
   "metadata": {
    "collapsed": true
   },
   "outputs": [],
   "source": [
    "def calculate_odds_ratio_removeoverlapping(all_features_allsites_notf_crossab,age_features):\n",
    "    counts= []\n",
    "    not_agefeatures = all_features_allsites_notf_crossab.index.difference(age_features)\n",
    "    #ttfreq = pd.concat([all_features_allsites_notf_crossab.loc[age_features].sum(),all_features_allsites_notf_crossab.loc[not_agefeatures].sum()]\n",
    "    #      ,axis=1,keys=['AgeFeatures','NotAgeFeatures'])\n",
    "    for feature in all_features_allsites_notf_crossab.columns:\n",
    "        feature_sites = all_features_allsites_notf_crossab[all_features_allsites_notf_crossab[feature]==1].index\n",
    "        notfeature_sites = all_features_allsites_notf_crossab[all_features_allsites_notf_crossab[feature]==0].index.difference(feature_sites)\n",
    "        feature_sites_age = feature_sites.intersection(age_features)\n",
    "        features_sites_notage = feature_sites.difference(age_features)\n",
    "        notfeature_sites_age = notfeature_sites.intersection(age_features)\n",
    "        notfeature_sites_notage = notfeature_sites.difference(age_features)\n",
    "        OR,pv = stats.fisher_exact([[len(feature_sites_age),len(features_sites_notage)],[len(notfeature_sites_age),len(notfeature_sites_notage)]])\n",
    "        #counts.append([feature,OR,pv,(len(feature_sites_age)/len(features_sites_notage)),(len(notfeature_sites_age)/len(notfeature_sites_notage))])\n",
    "        counts.append([feature,OR,pv])\n",
    "    #countsdf = pd.DataFrame(counts,columns=['Feature','OR','pvalue','age/notage_feature','notfeature_age/notfeature_notage'])\n",
    "    countsdf = pd.DataFrame(counts,columns=['Feature','OR','pvalue'])\n",
    "    countsdf.index=countsdf['Feature']\n",
    "    return(countsdf)"
   ]
  },
  {
   "cell_type": "code",
   "execution_count": 33,
   "metadata": {
    "collapsed": false
   },
   "outputs": [
    {
     "data": {
      "text/plain": [
       "array(['H3K27ac_mapped.bed', 'H3K27me3_mapped.bed', 'H3K4me1_mapped.bed',\n",
       "       'H3K4me3_mapped.bed', 'H3K9ac_mapped.bed', 'Enhancers_mapped.bed',\n",
       "       'H3K79me2_mapped.bed', 'H3K36me3_mapped.bed'], dtype=object)"
      ]
     },
     "execution_count": 33,
     "metadata": {},
     "output_type": "execute_result"
    }
   ],
   "source": [
    "remove_gene_blocked_regions.filename.unique()"
   ]
  },
  {
   "cell_type": "code",
   "execution_count": 34,
   "metadata": {
    "collapsed": false
   },
   "outputs": [
    {
     "name": "stderr",
     "output_type": "stream",
     "text": [
      "/cellar/users/twang/anaconda/lib/python2.7/site-packages/ipykernel/__main__.py:1: SettingWithCopyWarning: \n",
      "A value is trying to be set on a copy of a slice from a DataFrame.\n",
      "Try using .loc[row_indexer,col_indexer] = value instead\n",
      "\n",
      "See the caveats in the documentation: http://pandas.pydata.org/pandas-docs/stable/indexing.html#indexing-view-versus-copy\n",
      "  if __name__ == '__main__':\n"
     ]
    }
   ],
   "source": [
    "remove_gene_blocked_regions['filename'] = [x.split('_')[0] for x in remove_gene_blocked_regions['filename'].values]\n",
    "remove_gene_blocked_regions_nodups = remove_gene_blocked_regions[['filename','sitename']].drop_duplicates()\n",
    "all_features_allsites_notf_crossab = pd.crosstab(remove_gene_blocked_regions_nodups['sitename'],remove_gene_blocked_regions_nodups['filename'])"
   ]
  },
  {
   "cell_type": "code",
   "execution_count": 35,
   "metadata": {
    "collapsed": false
   },
   "outputs": [
    {
     "data": {
      "text/plain": [
       "Index([u'Enhancers', u'H3K27ac', u'H3K27me3', u'H3K36me3', u'H3K4me1',\n",
       "       u'H3K4me3', u'H3K79me2', u'H3K9ac'],\n",
       "      dtype='object', name=u'filename')"
      ]
     },
     "execution_count": 35,
     "metadata": {},
     "output_type": "execute_result"
    }
   ],
   "source": [
    "#Checking that the features were parsed correctly\n",
    "all_features_allsites_notf_crossab.columns"
   ]
  },
  {
   "cell_type": "code",
   "execution_count": 36,
   "metadata": {
    "collapsed": false
   },
   "outputs": [],
   "source": [
    "age_sites = [x for x in cpg_sites_weights['ConcatSite'].values if x!='intercept']"
   ]
  },
  {
   "cell_type": "code",
   "execution_count": 37,
   "metadata": {
    "collapsed": false
   },
   "outputs": [],
   "source": [
    "age_features_ors = calculate_odds_ratio_removeoverlapping(all_features_allsites_notf_crossab,age_sites)"
   ]
  },
  {
   "cell_type": "code",
   "execution_count": 38,
   "metadata": {
    "collapsed": false
   },
   "outputs": [],
   "source": [
    "age_features_ors=age_features_ors.sort_values(by='OR',ascending=False)"
   ]
  },
  {
   "cell_type": "code",
   "execution_count": 39,
   "metadata": {
    "collapsed": true
   },
   "outputs": [],
   "source": [
    "#21 was based on all features looked at, specifically only Enhancers and other histone features were selected for further assessment\n",
    "p_thresh = 0.05/21"
   ]
  },
  {
   "cell_type": "code",
   "execution_count": 40,
   "metadata": {
    "collapsed": false
   },
   "outputs": [
    {
     "data": {
      "text/plain": [
       "0.002380952380952381"
      ]
     },
     "execution_count": 40,
     "metadata": {},
     "output_type": "execute_result"
    }
   ],
   "source": [
    "p_thresh"
   ]
  },
  {
   "cell_type": "code",
   "execution_count": 41,
   "metadata": {
    "collapsed": false
   },
   "outputs": [
    {
     "data": {
      "text/html": [
       "<div>\n",
       "<table border=\"1\" class=\"dataframe\">\n",
       "  <thead>\n",
       "    <tr style=\"text-align: right;\">\n",
       "      <th></th>\n",
       "      <th>Feature</th>\n",
       "      <th>OR</th>\n",
       "      <th>pvalue</th>\n",
       "    </tr>\n",
       "    <tr>\n",
       "      <th>Feature</th>\n",
       "      <th></th>\n",
       "      <th></th>\n",
       "      <th></th>\n",
       "    </tr>\n",
       "  </thead>\n",
       "  <tbody>\n",
       "    <tr>\n",
       "      <th>Enhancers</th>\n",
       "      <td>Enhancers</td>\n",
       "      <td>1.965183</td>\n",
       "      <td>0.000438</td>\n",
       "    </tr>\n",
       "    <tr>\n",
       "      <th>H3K36me3</th>\n",
       "      <td>H3K36me3</td>\n",
       "      <td>1.856146</td>\n",
       "      <td>0.006677</td>\n",
       "    </tr>\n",
       "    <tr>\n",
       "      <th>H3K4me1</th>\n",
       "      <td>H3K4me1</td>\n",
       "      <td>1.710917</td>\n",
       "      <td>0.004984</td>\n",
       "    </tr>\n",
       "    <tr>\n",
       "      <th>H3K27ac</th>\n",
       "      <td>H3K27ac</td>\n",
       "      <td>1.242593</td>\n",
       "      <td>0.261533</td>\n",
       "    </tr>\n",
       "    <tr>\n",
       "      <th>H3K9ac</th>\n",
       "      <td>H3K9ac</td>\n",
       "      <td>0.994659</td>\n",
       "      <td>1.000000</td>\n",
       "    </tr>\n",
       "    <tr>\n",
       "      <th>H3K79me2</th>\n",
       "      <td>H3K79me2</td>\n",
       "      <td>0.903879</td>\n",
       "      <td>0.631688</td>\n",
       "    </tr>\n",
       "    <tr>\n",
       "      <th>H3K27me3</th>\n",
       "      <td>H3K27me3</td>\n",
       "      <td>0.750459</td>\n",
       "      <td>0.173423</td>\n",
       "    </tr>\n",
       "    <tr>\n",
       "      <th>H3K4me3</th>\n",
       "      <td>H3K4me3</td>\n",
       "      <td>0.542194</td>\n",
       "      <td>0.001350</td>\n",
       "    </tr>\n",
       "  </tbody>\n",
       "</table>\n",
       "</div>"
      ],
      "text/plain": [
       "             Feature        OR    pvalue\n",
       "Feature                                 \n",
       "Enhancers  Enhancers  1.965183  0.000438\n",
       "H3K36me3    H3K36me3  1.856146  0.006677\n",
       "H3K4me1      H3K4me1  1.710917  0.004984\n",
       "H3K27ac      H3K27ac  1.242593  0.261533\n",
       "H3K9ac        H3K9ac  0.994659  1.000000\n",
       "H3K79me2    H3K79me2  0.903879  0.631688\n",
       "H3K27me3    H3K27me3  0.750459  0.173423\n",
       "H3K4me3      H3K4me3  0.542194  0.001350"
      ]
     },
     "execution_count": 41,
     "metadata": {},
     "output_type": "execute_result"
    }
   ],
   "source": [
    "age_features_ors"
   ]
  },
  {
   "cell_type": "markdown",
   "metadata": {},
   "source": [
    "We see an enrichment of some histone regions, due to the largest enrichment seen in Enhancers, we specifically looked at Enhancers in the context of other genic features, specifically exonic, intronic, intergenic, promoter and enhancer regions."
   ]
  },
  {
   "cell_type": "code",
   "execution_count": 42,
   "metadata": {
    "collapsed": false
   },
   "outputs": [
    {
     "data": {
      "text/plain": [
       "7628"
      ]
     },
     "execution_count": 42,
     "metadata": {},
     "output_type": "execute_result"
    }
   ],
   "source": [
    "null_index = df_all_intersects[df_all_intersects['RegionName'].isnull()].index\n",
    "df_all_intersects.loc[null_index,'RegionName'] = [x.split('_')[0] for x in df_all_intersects.loc[null_index,'filename']]\n",
    "df_all_intersects.loc[df_all_intersects['filename'] == 'mm10_ucsc_gff.bed','sitename'].unique().shape[0]"
   ]
  },
  {
   "cell_type": "code",
   "execution_count": 43,
   "metadata": {
    "collapsed": false
   },
   "outputs": [],
   "source": [
    "enhancers_and_genic_regions = df_all_intersects.loc[(df_all_intersects['filename'] == 'mm10_ucsc_gff.bed') | (df_all_intersects['RegionName'] == 'Enhancers')]"
   ]
  },
  {
   "cell_type": "code",
   "execution_count": 44,
   "metadata": {
    "collapsed": false
   },
   "outputs": [],
   "source": [
    "site_and_feature = enhancers_and_genic_regions[['sitename','RegionName']].drop_duplicates()"
   ]
  },
  {
   "cell_type": "markdown",
   "metadata": {},
   "source": [
    "Since there are duplicated sites in this and we wanted to make a Pie chart, so we decided to prioritize enhancers and promoter regions. Since this is agnostic towards which sites are age-associated, this should not affect the enrichments calculated later."
   ]
  },
  {
   "cell_type": "code",
   "execution_count": 45,
   "metadata": {
    "collapsed": false
   },
   "outputs": [],
   "source": [
    "dup_sites = []\n",
    "for k,grp in site_and_feature.groupby('sitename'):\n",
    "    if grp.shape[0] > 1:\n",
    "        dup_sites.append(k)"
   ]
  },
  {
   "cell_type": "code",
   "execution_count": 46,
   "metadata": {
    "collapsed": false
   },
   "outputs": [
    {
     "data": {
      "text/plain": [
       "1759"
      ]
     },
     "execution_count": 46,
     "metadata": {},
     "output_type": "execute_result"
    }
   ],
   "source": [
    "len(dup_sites)"
   ]
  },
  {
   "cell_type": "code",
   "execution_count": 47,
   "metadata": {
    "collapsed": true
   },
   "outputs": [],
   "source": [
    "not_dup_sites = [x for x in site_and_feature.sitename if x not in dup_sites]"
   ]
  },
  {
   "cell_type": "code",
   "execution_count": 48,
   "metadata": {
    "collapsed": true
   },
   "outputs": [],
   "source": [
    "not_dup_sites_features = site_and_feature[site_and_feature['sitename'].isin(not_dup_sites)]"
   ]
  },
  {
   "cell_type": "code",
   "execution_count": 49,
   "metadata": {
    "collapsed": false
   },
   "outputs": [],
   "source": [
    "#Checking to see if we have to correct for 3 overlapping features with promoters\n",
    "co = 0\n",
    "for site in dup_sites:\n",
    "    overlapped_regions = site_and_feature.loc[site_and_feature.sitename==site,'RegionName'].values\n",
    "    if set(['exon', 'intron', 'intergenic', 'promoter']).intersection(set(overlapped_regions)) == 3:\n",
    "        co = co+1       "
   ]
  },
  {
   "cell_type": "code",
   "execution_count": 50,
   "metadata": {
    "collapsed": false
   },
   "outputs": [
    {
     "data": {
      "text/plain": [
       "0"
      ]
     },
     "execution_count": 50,
     "metadata": {},
     "output_type": "execute_result"
    }
   ],
   "source": [
    "co"
   ]
  },
  {
   "cell_type": "markdown",
   "metadata": {},
   "source": [
    "Only have to correct for Enhancers to prioritize it"
   ]
  },
  {
   "cell_type": "code",
   "execution_count": 51,
   "metadata": {
    "collapsed": false
   },
   "outputs": [],
   "source": [
    "dup_sites_prioritize_enhancers_promoters = []\n",
    "for site in dup_sites:\n",
    "    overlapped_regions = site_and_feature.loc[site_and_feature.sitename==site,'RegionName'].values\n",
    "    if len(overlapped_regions) > 2:\n",
    "        remove_feat = [x for x in overlapped_regions if x != 'Enhancers']\n",
    "        dup_sites_prioritize_enhancers_promoters.append([site,'Enhancers','Enhancers in {}'.format(','.join(remove_feat))])\n",
    "    else:\n",
    "        if 'Enhancers' in overlapped_regions:\n",
    "            remove_feat = [x for x in overlapped_regions if x != 'Enhancers']\n",
    "            dup_sites_prioritize_enhancers_promoters.append([site,'Enhancers','Enhancers in {}'.format(','.join(remove_feat))])\n",
    "        elif 'promoter' in overlapped_regions:\n",
    "            remove_feat = [x for x in overlapped_regions if x != 'promoter']\n",
    "            dup_sites_prioritize_enhancers_promoters.append([site,'promoter','promoter in {}'.format(','.join(remove_feat))])\n",
    "dup_sites_prioritize_enhancers_promoters = pd.DataFrame(dup_sites_prioritize_enhancers_promoters,columns=['sitename','RegionName','SpecificDetail'])"
   ]
  },
  {
   "cell_type": "code",
   "execution_count": 52,
   "metadata": {
    "collapsed": false
   },
   "outputs": [
    {
     "name": "stderr",
     "output_type": "stream",
     "text": [
      "/cellar/users/twang/anaconda/lib/python2.7/site-packages/ipykernel/__main__.py:1: SettingWithCopyWarning: \n",
      "A value is trying to be set on a copy of a slice from a DataFrame.\n",
      "Try using .loc[row_indexer,col_indexer] = value instead\n",
      "\n",
      "See the caveats in the documentation: http://pandas.pydata.org/pandas-docs/stable/indexing.html#indexing-view-versus-copy\n",
      "  if __name__ == '__main__':\n"
     ]
    }
   ],
   "source": [
    "not_dup_sites_features['SpecificDetail'] = ['only {}'.format(x) for x in not_dup_sites_features['RegionName']]"
   ]
  },
  {
   "cell_type": "code",
   "execution_count": 53,
   "metadata": {
    "collapsed": false
   },
   "outputs": [
    {
     "data": {
      "text/plain": [
       "7628"
      ]
     },
     "execution_count": 53,
     "metadata": {},
     "output_type": "execute_result"
    }
   ],
   "source": [
    "#Sanity check\n",
    "not_dup_sites_features['sitename'].unique().shape[0] + dup_sites_prioritize_enhancers_promoters['sitename'].unique().shape[0]"
   ]
  },
  {
   "cell_type": "code",
   "execution_count": 54,
   "metadata": {
    "collapsed": false
   },
   "outputs": [],
   "source": [
    "#Concatenate unique genomic regions\n",
    "unique_genomic_regions = pd.concat([not_dup_sites_features,dup_sites_prioritize_enhancers_promoters])\n",
    "unique_genomic_regions.index = unique_genomic_regions.sitename"
   ]
  },
  {
   "cell_type": "code",
   "execution_count": 55,
   "metadata": {
    "collapsed": false
   },
   "outputs": [],
   "source": [
    "#Map the names to be nicer for plotting\n",
    "map_names = {'intron':'Intronic', 'intergenic':'Intergenic', 'exon':'Exonic', 'promoter':'Promoter', 'Enhancers':'Enhancer'}\n",
    "unique_genomic_regions['RegionName'] = unique_genomic_regions['RegionName'].map(map_names)"
   ]
  },
  {
   "cell_type": "code",
   "execution_count": 56,
   "metadata": {
    "collapsed": false
   },
   "outputs": [],
   "source": [
    "#Find sites that were used by the model\n",
    "age_regions = unique_genomic_regions.loc[age_sites]"
   ]
  },
  {
   "cell_type": "code",
   "execution_count": 57,
   "metadata": {
    "collapsed": true
   },
   "outputs": [],
   "source": [
    "#Get not age sites from all possible sites\n",
    "age_regions_counts = age_regions['RegionName'].value_counts()\n",
    "not_age_regions_counts = unique_genomic_regions.loc[~unique_genomic_regions['sitename'].isin(age_regions.index),'RegionName'].value_counts()"
   ]
  },
  {
   "cell_type": "code",
   "execution_count": 58,
   "metadata": {
    "collapsed": false
   },
   "outputs": [
    {
     "data": {
      "text/plain": [
       "Intergenic    2240\n",
       "Intronic      2209\n",
       "Enhancer      1505\n",
       "Exonic         940\n",
       "Promoter       586\n",
       "Name: RegionName, dtype: int64"
      ]
     },
     "execution_count": 58,
     "metadata": {},
     "output_type": "execute_result"
    }
   ],
   "source": [
    "not_age_regions_counts"
   ]
  },
  {
   "cell_type": "code",
   "execution_count": 59,
   "metadata": {
    "collapsed": false
   },
   "outputs": [],
   "source": [
    "#Calculate Fisher's exact using a 2x2 contingency table for the genomic region and whether its in a genomic feature\n",
    "fishers_test_df = []\n",
    "for feature in age_regions_counts.index:\n",
    "    feature_sites_age = age_regions_counts.loc[feature]\n",
    "    features_sites_notage = not_age_regions_counts.loc[feature]\n",
    "    notfeature_sites_age = age_regions_counts.loc[[x for x in age_regions_counts.index if x != feature]].sum()\n",
    "    notfeature_sites_notage = not_age_regions_counts.loc[[x for x in age_regions_counts.index if x != feature]].sum()\n",
    "    OR,p = stats.fisher_exact([[feature_sites_age,features_sites_notage],[notfeature_sites_age,notfeature_sites_notage]])\n",
    "    fishers_test_df.append([feature,OR,p])\n",
    "fishers_test_df = pd.DataFrame(fishers_test_df,columns=['RegionName','OR','p-value'])"
   ]
  },
  {
   "cell_type": "code",
   "execution_count": 60,
   "metadata": {
    "collapsed": false
   },
   "outputs": [
    {
     "data": {
      "text/html": [
       "<div>\n",
       "<table border=\"1\" class=\"dataframe\">\n",
       "  <thead>\n",
       "    <tr style=\"text-align: right;\">\n",
       "      <th></th>\n",
       "      <th>RegionName</th>\n",
       "      <th>OR</th>\n",
       "      <th>p-value</th>\n",
       "    </tr>\n",
       "  </thead>\n",
       "  <tbody>\n",
       "    <tr>\n",
       "      <th>0</th>\n",
       "      <td>Enhancer</td>\n",
       "      <td>2.150471</td>\n",
       "      <td>0.000029</td>\n",
       "    </tr>\n",
       "    <tr>\n",
       "      <th>1</th>\n",
       "      <td>Intronic</td>\n",
       "      <td>0.977184</td>\n",
       "      <td>1.000000</td>\n",
       "    </tr>\n",
       "    <tr>\n",
       "      <th>2</th>\n",
       "      <td>Intergenic</td>\n",
       "      <td>0.836992</td>\n",
       "      <td>0.365769</td>\n",
       "    </tr>\n",
       "    <tr>\n",
       "      <th>3</th>\n",
       "      <td>Exonic</td>\n",
       "      <td>0.558627</td>\n",
       "      <td>0.059854</td>\n",
       "    </tr>\n",
       "    <tr>\n",
       "      <th>4</th>\n",
       "      <td>Promoter</td>\n",
       "      <td>0.243404</td>\n",
       "      <td>0.004656</td>\n",
       "    </tr>\n",
       "  </tbody>\n",
       "</table>\n",
       "</div>"
      ],
      "text/plain": [
       "   RegionName        OR   p-value\n",
       "0    Enhancer  2.150471  0.000029\n",
       "1    Intronic  0.977184  1.000000\n",
       "2  Intergenic  0.836992  0.365769\n",
       "3      Exonic  0.558627  0.059854\n",
       "4    Promoter  0.243404  0.004656"
      ]
     },
     "execution_count": 60,
     "metadata": {},
     "output_type": "execute_result"
    }
   ],
   "source": [
    "fishers_test_df"
   ]
  },
  {
   "cell_type": "code",
   "execution_count": 61,
   "metadata": {
    "collapsed": false
   },
   "outputs": [],
   "source": [
    "age_regions_pct =  age_regions['RegionName'].value_counts()/age_regions['RegionName'].value_counts().sum()"
   ]
  },
  {
   "cell_type": "code",
   "execution_count": 65,
   "metadata": {
    "collapsed": false
   },
   "outputs": [
    {
     "data": {
      "text/plain": [
       "Enhancer      0.351351\n",
       "Intronic      0.290541\n",
       "Intergenic    0.263514\n",
       "Exonic        0.074324\n",
       "Promoter      0.020270\n",
       "Name: RegionName, dtype: float64"
      ]
     },
     "execution_count": 65,
     "metadata": {},
     "output_type": "execute_result"
    }
   ],
   "source": [
    "age_regions_pct"
   ]
  },
  {
   "cell_type": "code",
   "execution_count": 62,
   "metadata": {
    "collapsed": false
   },
   "outputs": [
    {
     "data": {
      "text/plain": [
       "(-1.0030176070710537, 1.0, -1.0094798451121922, 1.0120973088403624)"
      ]
     },
     "execution_count": 62,
     "metadata": {},
     "output_type": "execute_result"
    },
    {
     "data": {
      "image/png": "[encoded data removed]",
      "text/plain": [
       "<matplotlib.figure.Figure at 0x7f3b460a7210>"
      ]
     },
     "metadata": {},
     "output_type": "display_data"
    }
   ],
   "source": [
    "#Make piechart\n",
    "f,axes = plt.subplots(1,1,figsize=(2,2))\n",
    "age_regions_pct.plot.pie(ax=axes,autopct='%1.1f%%',colors=sns.color_palette(\"Set3\",n_colors=5),labels = [[x,x+' *'][x in ['Enhancer','Promoter']] for x in age_regions_pct.index],fontsize=8)\n",
    "axes.set_ylabel('')\n",
    "axes.axis('equal')"
   ]
  },
  {
   "cell_type": "code",
   "execution_count": 63,
   "metadata": {
    "collapsed": false
   },
   "outputs": [],
   "source": [
    "#Save to file\n",
    "age_regions_pct.to_csv('data/epigenetic_aging_model/EnetSites_annotatedgenic_features.csv',index=True)"
   ]
  },
  {
   "cell_type": "code",
   "execution_count": 64,
   "metadata": {
    "collapsed": false
   },
   "outputs": [
    {
     "data": {
      "text/plain": [
       "(-1.0075192262668253, 1.0, -1.005648524268939, 1.0103375844442652)"
      ]
     },
     "execution_count": 64,
     "metadata": {},
     "output_type": "execute_result"
    },
    {
     "data": {
      "image/png": "[encoded data removed]",
      "text/plain": [
       "<matplotlib.figure.Figure at 0x7f3b460454d0>"
      ]
     },
     "metadata": {},
     "output_type": "display_data"
    }
   ],
   "source": [
    "#age_regions with specific detail, see that enhancers overlap a lot of different genomic features \n",
    "f,axes = plt.subplots(1,1,figsize=(4,4))\n",
    "age_regions_pct_detail = age_regions['SpecificDetail'].value_counts()/age_regions['SpecificDetail'].value_counts().sum()\n",
    "age_regions_pct_detail.plot.pie(ax=axes,autopct='%1.1f%%',colors=sns.color_palette(\"Set3\",n_colors=age_regions['SpecificDetail'].unique().shape[0]),fontsize=8)\n",
    "axes.set_ylabel('')\n",
    "axes.axis('equal')"
   ]
  },
  {
   "cell_type": "markdown",
   "metadata": {},
   "source": [
    "Enrichment p-value calculation by permutations of all unique genomic regions"
   ]
  },
  {
   "cell_type": "code",
   "execution_count": 65,
   "metadata": {
    "collapsed": true
   },
   "outputs": [],
   "source": [
    "import random\n",
    "import collections"
   ]
  },
  {
   "cell_type": "code",
   "execution_count": 66,
   "metadata": {
    "collapsed": false
   },
   "outputs": [],
   "source": [
    "m = 10000\n",
    "nsamp = 148\n",
    "permuts = []\n",
    "for x in xrange(m):\n",
    "    samp = random.sample(unique_genomic_regions['RegionName'].values,148)\n",
    "    permuts.append(samp)"
   ]
  },
  {
   "cell_type": "code",
   "execution_count": 67,
   "metadata": {
    "collapsed": true
   },
   "outputs": [],
   "source": [
    "random_permuts = collections.defaultdict(list)"
   ]
  },
  {
   "cell_type": "code",
   "execution_count": 68,
   "metadata": {
    "collapsed": false
   },
   "outputs": [],
   "source": [
    "for perm in permuts:\n",
    "    count_dict = collections.Counter(perm)\n",
    "    for key in count_dict:\n",
    "        random_permuts[key].append(count_dict[key])"
   ]
  },
  {
   "cell_type": "code",
   "execution_count": 69,
   "metadata": {
    "collapsed": true
   },
   "outputs": [],
   "source": [
    "summary_series = []\n",
    "for key in random_permuts.keys():\n",
    "    summary_series.append(np.mean(random_permuts[key])/nsamp)\n",
    "summary_series = pd.Series(summary_series,index=random_permuts.keys())"
   ]
  },
  {
   "cell_type": "code",
   "execution_count": 70,
   "metadata": {
    "collapsed": false
   },
   "outputs": [
    {
     "data": {
      "text/plain": [
       "Enhancer      0.204355\n",
       "Intergenic    0.298477\n",
       "Intronic      0.295016\n",
       "Exonic        0.124944\n",
       "Promoter      0.077208\n",
       "dtype: float64"
      ]
     },
     "execution_count": 70,
     "metadata": {},
     "output_type": "execute_result"
    }
   ],
   "source": [
    "summary_series"
   ]
  },
  {
   "cell_type": "code",
   "execution_count": 71,
   "metadata": {
    "collapsed": true
   },
   "outputs": [],
   "source": [
    "counts_actual = collections.Counter(age_regions['RegionName'])"
   ]
  },
  {
   "cell_type": "code",
   "execution_count": 72,
   "metadata": {
    "collapsed": false
   },
   "outputs": [],
   "source": [
    "gt_series = []\n",
    "for key in random_permuts.keys():\n",
    "    array_ver = np.array(random_permuts[key])\n",
    "    sum_greater = (array_ver > counts_actual[key]).sum()\n",
    "    gt_series.append(sum_greater)\n",
    "gt_series = pd.Series(gt_series,index = random_permuts.keys())"
   ]
  },
  {
   "cell_type": "code",
   "execution_count": 73,
   "metadata": {
    "collapsed": false
   },
   "outputs": [
    {
     "data": {
      "text/plain": [
       "Enhancer      0.0000\n",
       "Intergenic    0.8015\n",
       "Intronic      0.5124\n",
       "Exonic        0.9671\n",
       "Promoter      0.9981\n",
       "dtype: float64"
      ]
     },
     "execution_count": 73,
     "metadata": {},
     "output_type": "execute_result"
    }
   ],
   "source": [
    "#Still see under-enrichment in promotoers and over-enrichment in enhancers\n",
    "gt_series/m"
   ]
  },
  {
   "cell_type": "code",
   "execution_count": 74,
   "metadata": {
    "collapsed": false
   },
   "outputs": [
    {
     "data": {
      "text/plain": [
       "Enhancer      1.719321\n",
       "Exonic        0.594861\n",
       "Intergenic    0.882860\n",
       "Intronic      0.984829\n",
       "Promoter      0.262541\n",
       "dtype: float64"
      ]
     },
     "execution_count": 74,
     "metadata": {},
     "output_type": "execute_result"
    }
   ],
   "source": [
    "#See enrichment over random.\n",
    "age_regions_pct/summary_series"
   ]
  }
 ],
 "metadata": {
  "kernelspec": {
   "display_name": "Python 2",
   "language": "python",
   "name": "python2"
  },
  "language_info": {
   "codemirror_mode": {
    "name": "ipython",
    "version": 2
   },
   "file_extension": ".py",
   "mimetype": "text/x-python",
   "name": "python",
   "nbconvert_exporter": "python",
   "pygments_lexer": "ipython2",
   "version": "2.7.12"
  }
 },
 "nbformat": 4,
 "nbformat_minor": 0
}
