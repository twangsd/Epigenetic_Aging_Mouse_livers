{
 "cells": [
  {
   "cell_type": "markdown",
   "metadata": {},
   "source": [
    "This notebook details the sets of scripts that were used to generate random files. The summation of the results are shown in random_results_file."
   ]
  },
  {
   "cell_type": "markdown",
   "metadata": {},
   "source": [
    "## Notebook imports"
   ]
  },
  {
   "cell_type": "code",
   "execution_count": 1,
   "metadata": {
    "collapsed": true
   },
   "outputs": [],
   "source": [
    "from __future__ import division\n",
    "import os\n",
    "import numpy as np\n",
    "import random \n",
    "import pandas as pd\n",
    "import seaborn as sns\n",
    "import matplotlib.pyplot as plt\n",
    "import matplotlib as mpl\n",
    "mpl.rcParams['pdf.fonttype'] = 42\n",
    "mpl.rcParams['legend.numpoints'] = 1\n",
    "%matplotlib inline\n",
    "import itertools\n",
    "\n",
    "import imp\n",
    "twto = imp.load_source('twto','scripts/twang_toolbox.py')\n",
    "meth = imp.load_source('meth','scripts/methy_parsing.py')\n",
    "\n",
    "from sklearn import cross_validation, linear_model, metrics\n",
    "import statsmodels.api as sm\n",
    "import statsmodels.formula.api as smf\n",
    "import statsmodels.sandbox.stats as smstats\n",
    "import scipy.stats as stats\n",
    "import scipy.cluster.hierarchy as hac"
   ]
  },
  {
   "cell_type": "code",
   "execution_count": 2,
   "metadata": {
    "collapsed": true
   },
   "outputs": [],
   "source": [
    "sns.set(context='notebook',style='ticks')"
   ]
  },
  {
   "cell_type": "code",
   "execution_count": 3,
   "metadata": {
    "collapsed": true
   },
   "outputs": [],
   "source": [
    "def apply_model(mod_obj,df):\n",
    "    predictions = mod_obj.predict(df)\n",
    "    return pd.Series([2**x for x in predictions],index=df.index,name='EpiAgeMonths')/30.42\n",
    "def make_lmreg(x,y):\n",
    "    lm = linear_model.LinearRegression()\n",
    "    lm = lm.fit(pd.DataFrame(x),y)\n",
    "    return lm.coef_[0],lm.intercept_\n",
    "def extract_data(cat,predictions_dict,filein=False):\n",
    "    if not filein:\n",
    "        predictions_df = predictions_dict[cat]\n",
    "    else:\n",
    "        predictions_df = predictions_dict\n",
    "    map_treatment = {'D':'D', 'Rapa':'Rapa', 'CR':'CR', 'normal':'control', 'high/high':'control', 'high/low':'control', 'low/high':'control'}\n",
    "    predictions_df['treatment2'] = predictions_df['treatment'].map(map_treatment)\n",
    "    predictions_df['Epi-actual'] = predictions_df['EpiAgeMonths'] -predictions_df['Age_month']\n",
    "    map_control_treatment_strains = {'Ames':{2:{'D':'2m dwarf','control':'2m Ames control'},22:{'D':'22m dwarf','control':'22m Ames control'}},\n",
    "                                 'Miller':{2:{'control':'2m UMHET3'},22:{'control':'22m UMHET3','Rapa':'Rapa','CR':'CR'}},'SRP032932':{'control':'C57BL6'}}\n",
    "    for k,grp in predictions_df.groupby('Study'):\n",
    "        if k !='SRP032932':\n",
    "            for k2,grp2 in grp.groupby('Age_month'):\n",
    "                study_map_mouse = map_control_treatment_strains[k][k2]\n",
    "                predictions_df.loc[grp2.index,'mouse'] = predictions_df.loc[grp2.index,'treatment2'].map(study_map_mouse)\n",
    "        else:\n",
    "            study_map_mouse = map_control_treatment_strains[k]\n",
    "            predictions_df.loc[grp.index,'mouse'] = predictions_df.loc[grp.index,'treatment2'].map(study_map_mouse)\n",
    "    controls = predictions_df[predictions_df['treatment2']=='control']\n",
    "    mean_resid = {}\n",
    "    for k,grp in controls.groupby(['Age_month','Study']):\n",
    "        mean_resid[k] = grp['Epi-actual'].mean()\n",
    "    mean_resid_rows = [mean_resid[k] for k in mean_resid]\n",
    "    mean_resid_columns = [k for k in mean_resid]\n",
    "    df_row = pd.DataFrame(mean_resid_rows,index=mean_resid_columns,columns=[cat]).T\n",
    "    return(df_row)\n",
    "def shuffle2(df, n):\n",
    "   ind = df.index\n",
    "   for i in range(n):\n",
    "       sampler = np.random.permutation(df.shape[0])\n",
    "       new_vals = df.take(sampler).values\n",
    "       df = pd.DataFrame(new_vals, index=ind,columns=df.columns)\n",
    "   return df"
   ]
  },
  {
   "cell_type": "markdown",
   "metadata": {},
   "source": [
    "## Outline"
   ]
  },
  {
   "cell_type": "markdown",
   "metadata": {},
   "source": [
    "To generate random data, the covariates were shuffled within each study and written as an hdf file. The methylation values remain unshuffled. This randomization is to assess whether ComBat normalization, according to their covariates, alone dictate the performance of the predictor. The resulting randomized covariates are then normalized using ComBat, nonparametric, and the normalized data is then used to train random models of epigenetic age. The prediction error, or residual of epigenetic age - chronological age, according to their shuffled labels allows us to study if the label itself dictates the prediction performance due to ComBat."
   ]
  },
  {
   "cell_type": "markdown",
   "metadata": {},
   "source": [
    "#### Generating random data"
   ]
  },
  {
   "cell_type": "code",
   "execution_count": 4,
   "metadata": {
    "collapsed": false
   },
   "outputs": [],
   "source": [
    "#Read in all data\n",
    "uncorrected_all_data_file = 'data/AllData_non_normalized_data_logage.h5'\n",
    "uncorrected_data = pd.read_hdf(uncorrected_all_data_file,'methy_mat')\n",
    "covariates_combined = pd.read_hdf(uncorrected_all_data_file,'covariates')"
   ]
  },
  {
   "cell_type": "markdown",
   "metadata": {},
   "source": [
    "This is an example of how the data are shuffled the actual shuffled dataframes are not provided"
   ]
  },
  {
   "cell_type": "code",
   "execution_count": null,
   "metadata": {
    "collapsed": true
   },
   "outputs": [],
   "source": [
    "#j=0\n",
    "#while j<=150:\n",
    "#    shuffled_cat = 'Shuffled_permutation_{}'.format(j)\n",
    "#    shuffled_covs = []\n",
    "#    index_list = []\n",
    "#    for k,grp in covariates_combined.groupby('Study'):\n",
    "#        shuffled_grp = shuffle2(grp,2)\n",
    "#        shuffled_covs = shuffled_covs+shuffled_grp.values.tolist()\n",
    "#        index_list = index_list+shuffled_grp.index.values.tolist()\n",
    "#    shuffled_covs = pd.DataFrame(shuffled_covs,index=index_list)\n",
    "#    shuffled_covs.columns = ['Study','age_days','gender','treatment','age_groupings']\n",
    "#    shuffled_data_f = os.path.join(shuffled_data_d_alldata,'{}.h5'.format(shuffled_cat))\n",
    "#    df_dict = {'methy_mat':all_data_uc.loc[shuffled_covs.index],'covariates':shuffled_covs}\n",
    "#    twto.save_hdf_file(df_dict,shuffled_data_f)\n",
    "#    j=j+1"
   ]
  },
  {
   "cell_type": "markdown",
   "metadata": {},
   "source": [
    "Shuffled data is then combat normalized using an ipython script that is found in 'scripts/combat_nonparametric_shuffling_inputShuffled.ipy'. This script takes as input the hdffile that is already shuffled using the above script, where the methylation values are labeled under 'methy_mat' and the covariates are labeled with 'covariates' in the hdffile, a single column file describing the index to use as training and a single column describing the index to reserve as test, the prefix to label the shuffled dataframes. The iteration of shuffling is given by the filename of the input with a '_number' type of format so the number is retained in the shuffled normalized dataframe. These scripts were executed with access to a parallel computing cluster."
   ]
  },
  {
   "cell_type": "markdown",
   "metadata": {},
   "source": [
    "After normalizing and saving the dataframes, the following executes the selection of regularization parameters, described in MouseEpigeneticAgingModel ipython notebook. Then the selection of the most optimal parameters are shown in the example scripts below. "
   ]
  },
  {
   "cell_type": "markdown",
   "metadata": {},
   "source": [
    "Shuffled data d is the directory with the shuffled Combat Normalized hdf files, test files are denoted with the prefix 'AdamsData_' <br>\n",
    "This is just an example"
   ]
  },
  {
   "cell_type": "code",
   "execution_count": null,
   "metadata": {
    "collapsed": true
   },
   "outputs": [],
   "source": [
    "random_hdf_dict = {}\n",
    "random_hdf_dict_test = {}\n",
    "flist = twto.make_files_tuple(shuffled_data_d,'.h5')\n",
    "for fname,fpath in flist:\n",
    "    cat = fname.split('.h5')[0]\n",
    "    if cat.startswith('Adams'):\n",
    "        cat = cat.split('AdamsData_')[1]\n",
    "        random_hdf_dict_test[cat] = fpath\n",
    "    else:\n",
    "        random_hdf_dict[cat]=fpath"
   ]
  },
  {
   "cell_type": "markdown",
   "metadata": {},
   "source": [
    "This is an example of the configuration file being used in parallel computing environment. <br>\n",
    "To reduce the number of individual jobs, the jobs are concatenated and split into batches <br>\n",
    "To make it evenly divisible by the number of jobs, we only considered the first 110."
   ]
  },
  {
   "cell_type": "code",
   "execution_count": null,
   "metadata": {
    "collapsed": true
   },
   "outputs": [],
   "source": [
    "cfig_file_list = []\n",
    "overall_count = 0\n",
    "file_comb_count = 0\n",
    "y = 0\n",
    "cfig_file = os.path.join(shuffled_cfig_d,'Dummy.txt')\n",
    "while y in range(110): \n",
    "    cfig_lines_combined = []\n",
    "    while overall_count < 10:\n",
    "        key_rand = random_hdf_dict.keys()[:110][y]\n",
    "        markerfile = 'all'\n",
    "        hdffile = random_hdf_dict[key_rand]\n",
    "        outd_enet = os.path.join(shuffled_enet_d,key_rand)\n",
    "        twto.make_directory(outd_enet)\n",
    "        nfolds = 4\n",
    "        cfig_lines_iter = meth.make_cross_validation_config_forloop(outd_enet,errord,hdffile,cfig_file,alph_rat_file_list,variable_name='age_days',markers2use='all',other_arguments=[True,nfolds,'age_groupings'],return_lines=True)\n",
    "        cfig_lines_combined = cfig_lines_combined+cfig_lines_iter\n",
    "        overall_count = overall_count+1\n",
    "        file_comb_count = file_comb_count+1\n",
    "        y = y+1\n",
    "    cfig_file = os.path.join(shuffled_cfig_d,'1601124_{}_{}_CrossVal.txt'.format(file_comb_count-10,file_comb_count))\n",
    "    twto.write_space_delimited_file(cfig_lines_combined,cfig_file)\n",
    "    cfig_file_list.append(cfig_file)\n",
    "    overall_count = 0\n",
    "for cfig_file in cfig_file_list:\n",
    "    error_dir_name = '_'.join(cfig_file.split('/')[-1].split('_')[1:3])\n",
    "    i = cfig_file.split('/')[-1].split('_')[2]\n",
    "    errord = os.path.join(shuffled_error_d,error_dir_name,'errorlogging')\n",
    "    twto.make_directory(errord)\n",
    "    py_script = 'scripts/CV_ElasticNet_Training_stratifiedKfold_stratname_general_loopRegParams.py'\n",
    "    twto.submit_qsub_argument(cfig_file,errord,25,'CVRandComb{}'.format(i),8,py_script,long=False,testing=False)     "
   ]
  },
  {
   "cell_type": "markdown",
   "metadata": {},
   "source": [
    "The following scripts parses the results and determines the optimal parameters for regularization, and fits and makes predictions with the most optimal parameters."
   ]
  },
  {
   "cell_type": "code",
   "execution_count": null,
   "metadata": {
    "collapsed": true
   },
   "outputs": [],
   "source": [
    "pc_play_dict_rand = {}\n",
    "for cat in random_hdf_dict.keys()[:120]:\n",
    "    if cat not in pc_play_dict_rand:\n",
    "        outd_enet = os.path.join(shuffled_enet_d,cat)\n",
    "        cv_results = meth.aggregate_cross_validation_results(outd_enet)\n",
    "        cv_results['round_mp'] = cv_results['mean_p'].round(2)\n",
    "        pc_play_dict_rand[cat] = cv_results"
   ]
  },
  {
   "cell_type": "code",
   "execution_count": null,
   "metadata": {
    "collapsed": true
   },
   "outputs": [],
   "source": [
    "optimal_parameter_dict_rand = {}\n",
    "for cat in pc_play_dict_rand:\n",
    "    if cat not in optimal_parameter_dict_rand:\n",
    "        alph = pc_play_dict_rand[cat].sort_values(by=['mean_rmse','round_mp'],ascending=[True,False]).iloc[0]['alpha']\n",
    "        lirat = pc_play_dict_rand[cat].sort_values(by=['mean_rmse','round_mp'],ascending=[True,False]).iloc[0]['lirat']\n",
    "        optimal_parameter_dict_rand[cat] = (alph,lirat)"
   ]
  },
  {
   "cell_type": "code",
   "execution_count": null,
   "metadata": {
    "collapsed": true
   },
   "outputs": [],
   "source": [
    "#Model fitting and making predictions for the test.\n",
    "prediction_results_rand = {}\n",
    "for cat in optimal_parameter_dict_rand:\n",
    "    if cat not in prediction_results_rand:\n",
    "        hdffile = random_hdf_dict[cat]\n",
    "        hdffile_test = random_hdf_dict_test[cat]\n",
    "        df2use = pd.read_hdf(hdffile,'methy_mat')\n",
    "        covs2use =  pd.read_hdf(hdffile,'covariates')\n",
    "        testdf2use = pd.read_hdf(hdffile_test,'methy_mat')\n",
    "        test_covs = pd.read_hdf(hdffile_test,'covariates')\n",
    "        alph = optimal_parameter_dict_rand[cat][0]\n",
    "        lirat = optimal_parameter_dict_rand[cat][1]\n",
    "        enet = linear_model.ElasticNet(alpha=alph,l1_ratio=lirat,max_iter=10000)\n",
    "        mod_iter = enet.fit(df2use,covs2use['age_days'])\n",
    "        interventions_age = apply_model(mod_iter,testdf2use)\n",
    "        adams_df = test_covs.loc[testdf2use.index].join(interventions_age)\n",
    "        adams_df['Age_month'] = (2**adams_df['age_days']/30.42).round(1)\n",
    "        prediction_results_rand[cat] = adams_df"
   ]
  },
  {
   "cell_type": "code",
   "execution_count": null,
   "metadata": {
    "collapsed": true
   },
   "outputs": [],
   "source": [
    "#Extracts the relevant residual error example\n",
    "randoms = []\n",
    "for cat in prediction_results_rand:\n",
    "    df_row = extract_data(cat,cv_results_dict_rand,prediction_results_rand)\n",
    "    randoms.append(df_row)\n",
    "random_data = pd.concat(randoms)"
   ]
  },
  {
   "cell_type": "markdown",
   "metadata": {},
   "source": [
    "The results of this creates a randoms data shown in random_data_file."
   ]
  },
  {
   "cell_type": "code",
   "execution_count": 5,
   "metadata": {
    "collapsed": false
   },
   "outputs": [],
   "source": [
    "random_data_file = 'data/epigenetic_aging_model/RandomResults.txt'\n",
    "random_data = pd.read_csv(random_data_file,sep='\\t',header=0,index_col=0)"
   ]
  },
  {
   "cell_type": "code",
   "execution_count": 6,
   "metadata": {
    "collapsed": false
   },
   "outputs": [
    {
     "data": {
      "text/plain": [
       "Index([u'(2.1000000000000001, 'SRP032932')', u'(22.0, 'Miller')',\n",
       "       u'(22.0, 'Ames')', u'(2.0, 'Miller')', u'(2.0, 'Ames')'],\n",
       "      dtype='object')"
      ]
     },
     "execution_count": 6,
     "metadata": {},
     "output_type": "execute_result"
    }
   ],
   "source": [
    "random_data.columns"
   ]
  },
  {
   "cell_type": "code",
   "execution_count": 7,
   "metadata": {
    "collapsed": false
   },
   "outputs": [],
   "source": [
    "map_columns2tups = {\"(22.0, 'Ames')\":(22.0, u'Ames'), \"(2.0, 'Miller')\":(2.0, 'Miller'),\n",
    "       \"(2.1000000000000001, 'SRP032932')\":(2.1, u'SRP032932'), \"(22.0, 'Miller')\":(22.0, 'Miller'),\n",
    "      \"(2.0, 'Ames')\":(2.0, 'Ames')}\n",
    "random_data.columns = pd.Series(random_data.columns).map(map_columns2tups)"
   ]
  },
  {
   "cell_type": "code",
   "execution_count": 8,
   "metadata": {
    "collapsed": false
   },
   "outputs": [],
   "source": [
    "actual_data_file = 'data/epigenetic_aging_model/RealResults.txt'\n",
    "actual_data = pd.read_csv(actual_data_file,sep='\\t',header=0,index_col=0)\n",
    "actual_data_summary = extract_data('',actual_data,filein=True)"
   ]
  },
  {
   "cell_type": "code",
   "execution_count": 9,
   "metadata": {
    "collapsed": false
   },
   "outputs": [
    {
     "data": {
      "text/plain": [
       "Index([(2.1, u'SRP032932'),   (22.0, u'Miller'),     (22.0, u'Ames'),\n",
       "          (2.0, u'Miller'),      (2.0, u'Ames')],\n",
       "      dtype='object')"
      ]
     },
     "execution_count": 9,
     "metadata": {},
     "output_type": "execute_result"
    }
   ],
   "source": [
    "actual_data_summary.columns"
   ]
  },
  {
   "cell_type": "code",
   "execution_count": 10,
   "metadata": {
    "collapsed": false
   },
   "outputs": [
    {
     "data": {
      "image/png": "[encoded data removed]",
      "text/plain": [
       "<matplotlib.figure.Figure at 0x7f7e4705ba10>"
      ]
     },
     "metadata": {},
     "output_type": "display_data"
    }
   ],
   "source": [
    "cols2plot = actual_data_summary.columns\n",
    "f,axes = plt.subplots(2,3)\n",
    "ind = 0\n",
    "m = 0\n",
    "cols2plot_map = {(22.0, u'Ames'):'22m Ames residuals',(22.0, u'Miller'):'22m UMHET3 residuals',(2.0, u'Miller'):'2m UMHET3 residuals', actual_data_summary.columns[0]:'2.1m C57BL6 residuals',(2.0, u'Ames'):'2m Ames residuals'}\n",
    "                 #'b_controls':'intercept untreated', 'b_notcontrols':'intercept treated', 'm_controls':'slope untreated'}\n",
    "for n,col in enumerate(sorted(cols2plot_map.keys())):\n",
    "    if ind == 3:\n",
    "        ind =0\n",
    "        m=1\n",
    "    ax = axes[m][ind]\n",
    "    xlab = cols2plot_map[col]\n",
    "    ax = sns.distplot(random_data[col].abs(),label='random',ax=ax,color='gray')\n",
    "    ax.axvline(abs(actual_data_summary[col].values[0]),label='actual',color='green')\n",
    "    #if len(col)!=2:\n",
    "    ax.set_xlabel('abs({})'.format(xlab),fontsize=8)\n",
    "    #else:\n",
    "    #    ax.set_xlabel('{},{}'.format(round(col[0],2),col[1]))\n",
    "    #ax.legend()\n",
    "    ind = ind+1\n",
    "f.tight_layout()\n",
    "sns.despine()\n",
    "plt.show()\n",
    "plt.close()"
   ]
  },
  {
   "cell_type": "code",
   "execution_count": null,
   "metadata": {
    "collapsed": true
   },
   "outputs": [],
   "source": []
  }
 ],
 "metadata": {
  "kernelspec": {
   "display_name": "Python 2",
   "language": "python",
   "name": "python2"
  },
  "language_info": {
   "codemirror_mode": {
    "name": "ipython",
    "version": 2
   },
   "file_extension": ".py",
   "mimetype": "text/x-python",
   "name": "python",
   "nbconvert_exporter": "python",
   "pygments_lexer": "ipython2",
   "version": "2.7.12"
  }
 },
 "nbformat": 4,
 "nbformat_minor": 0
}
