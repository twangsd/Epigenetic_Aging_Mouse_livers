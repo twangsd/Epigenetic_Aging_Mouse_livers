{
 "cells": [
  {
   "cell_type": "markdown",
   "metadata": {},
   "source": [
    "In this notebook we examine what probes are conserved over age. The processing of the data for humans are shown in the dataprocessing notebook. We compare the commonly profiled space by using liftOver. Liftover is called using liftOver -minMatch=0.1 lifting mm10 to hg19 after stripping the 'chr' from the chain files. We liftOver from mouse to human and intersect the commonly profiled space using intersectBed. These files are then parsed. A site is commonly profiled if it intersects the region that is probed (this decision was made because some of these probes on the 450K assume a methylation state within a 50bp region) in the respective species's genomic space. If there is a many to one mapping then we take the average of sites that are commonly profiled. Everything is done in Illumina450K probe namespace."
   ]
  },
  {
   "cell_type": "markdown",
   "metadata": {},
   "source": [
    "### Notebook imports"
   ]
  },
  {
   "cell_type": "code",
   "execution_count": 1,
   "metadata": {
    "collapsed": false
   },
   "outputs": [],
   "source": [
    "from __future__ import division\n",
    "import os\n",
    "import numpy as np\n",
    "import random \n",
    "import pandas as pd\n",
    "import seaborn as sns\n",
    "import matplotlib.pyplot as plt\n",
    "import matplotlib as mpl\n",
    "mpl.rcParams['pdf.fonttype'] = 42\n",
    "mpl.rcParams['legend.numpoints'] = 1\n",
    "%matplotlib inline\n",
    "import collections\n",
    "\n",
    "import imp\n",
    "twto = imp.load_source('twto','scripts/twang_toolbox.py')\n",
    "meth = imp.load_source('meth','scripts/methy_parsing.py')\n",
    "\n",
    "from sklearn import cross_validation, linear_model, metrics\n",
    "import statsmodels.api as sm\n",
    "import statsmodels.formula.api as smf\n",
    "import statsmodels.sandbox.stats as smstats\n",
    "import scipy.stats as stats\n",
    "import scipy.cluster.hierarchy as hac"
   ]
  },
  {
   "cell_type": "code",
   "execution_count": 2,
   "metadata": {
    "collapsed": true
   },
   "outputs": [],
   "source": [
    "#Used for paper\n",
    "sns.set(context = \"paper\", style='ticks',rc={\"font.size\":9,\"legend.fontsize\":8,\"axes.titlesize\":12,\n",
    "                             \"axes.labelsize\":8,\"xtick.labelsize\":6,\"ytick.labelsize\":6, 'xtick.major.size': 3.0,\n",
    " 'xtick.minor.size': 1.0,'ytick.major.size': 3.0,\n",
    " 'ytick.minor.size': 1.0})"
   ]
  },
  {
   "cell_type": "code",
   "execution_count": 3,
   "metadata": {
    "collapsed": true
   },
   "outputs": [],
   "source": [
    "sns.set(context = \"notebook\", style='white')"
   ]
  },
  {
   "cell_type": "markdown",
   "metadata": {},
   "source": [
    "#### functions used for this analysis"
   ]
  },
  {
   "cell_type": "code",
   "execution_count": 4,
   "metadata": {
    "collapsed": true
   },
   "outputs": [],
   "source": [
    "def match_site2probe(file_dict):\n",
    "    site2probe_dict = collections.defaultdict(set)\n",
    "    for cat in file_dict.keys():\n",
    "        intersectf = file_dict[cat]\n",
    "        lines_intersects = twto.read_file(intersectf)\n",
    "        #dict_sites = {x[3]:x[-1] for x in lines_intersects}\n",
    "        print cat,len(set([x[3] for x in lines_intersects])),len(set([x[-1] for x in lines_intersects]))\n",
    "        for row in lines_intersects:\n",
    "            site2probe_dict[row[-1]].add(row[3])\n",
    "    return(site2probe_dict)"
   ]
  },
  {
   "cell_type": "code",
   "execution_count": 5,
   "metadata": {
    "collapsed": true
   },
   "outputs": [],
   "source": [
    "def collapse_mouse_2human_probe(df_reizelonly,site2probe):\n",
    "    mouse_to_probes_df_bg = []\n",
    "    corr_per_site_bg = []\n",
    "    for probe in site2probe:\n",
    "        mouse_sites = list(site2probe[probe])\n",
    "        average_sites = df_reizelonly.loc[:,mouse_sites].mean(axis=1)\n",
    "        if len(mouse_sites)>1:\n",
    "            average_sites_corr = df_reizelonly.loc[:,mouse_sites].corr().iloc[0,1:].mean()\n",
    "            average_sites_difference = df_reizelonly.loc[:,mouse_sites].diff(axis=1).mean().mean()\n",
    "            corr_per_site_bg.append([probe,average_sites_corr,average_sites_difference,len(mouse_sites)])\n",
    "        average_sites.name = probe\n",
    "        mouse_to_probes_df_bg.append(average_sites)\n",
    "    df_reizel_ps = pd.concat(mouse_to_probes_df_bg,axis=1)\n",
    "    corr_ps = pd.DataFrame(corr_per_site_bg,columns=['probe','corr','average_diff','lensites'])\n",
    "    return(df_reizel_ps,corr_ps)"
   ]
  },
  {
   "cell_type": "code",
   "execution_count": 6,
   "metadata": {
    "collapsed": true
   },
   "outputs": [],
   "source": [
    "def calculate_odds_ratio_removeoverlapping(all_features_allsites_notf_crossab,age_features):\n",
    "    counts= []\n",
    "    not_agefeatures = all_features_allsites_notf_crossab.index.difference(age_features)\n",
    "    #ttfreq = pd.concat([all_features_allsites_notf_crossab.loc[age_features].sum(),all_features_allsites_notf_crossab.loc[not_agefeatures].sum()]\n",
    "    #      ,axis=1,keys=['AgeFeatures','NotAgeFeatures'])\n",
    "    for feature in all_features_allsites_notf_crossab.columns:\n",
    "        feature_sites = all_features_allsites_notf_crossab[all_features_allsites_notf_crossab[feature]==1].index\n",
    "        notfeature_sites = all_features_allsites_notf_crossab[all_features_allsites_notf_crossab[feature]==0].index.difference(feature_sites)\n",
    "        feature_sites_age = feature_sites.intersection(age_features)\n",
    "        features_sites_notage = feature_sites.difference(age_features)\n",
    "        notfeature_sites_age = notfeature_sites.intersection(age_features)\n",
    "        notfeature_sites_notage = notfeature_sites.difference(age_features)\n",
    "        OR,pv = stats.fisher_exact([[len(feature_sites_age),len(features_sites_notage)],[len(notfeature_sites_age),len(notfeature_sites_notage)]])\n",
    "        #counts.append([feature,OR,pv,(len(feature_sites_age)/len(features_sites_notage)),(len(notfeature_sites_age)/len(notfeature_sites_notage))])\n",
    "        counts.append([feature,OR,pv])\n",
    "    #countsdf = pd.DataFrame(counts,columns=['Feature','OR','pvalue','age/notage_feature','notfeature_age/notfeature_notage'])\n",
    "    countsdf = pd.DataFrame(counts,columns=['Feature','OR','pvalue'])\n",
    "    countsdf.index=countsdf['Feature']\n",
    "    return(countsdf)"
   ]
  },
  {
   "cell_type": "code",
   "execution_count": 7,
   "metadata": {
    "collapsed": true
   },
   "outputs": [],
   "source": [
    "def entropy(df,markers):\n",
    "    #if not markers == 'all':\n",
    "    entropy_sum = df[markers].T.apply(lambda x:(x*np.log(x)+(1-x)*np.log(1-x)))\n",
    "    entropy_sum=entropy_sum.fillna(0)\n",
    "    entropy = entropy_sum.sum()*1/(entropy_sum.shape[0]*np.log(0.5))\n",
    "    return entropy"
   ]
  },
  {
   "cell_type": "markdown",
   "metadata": {},
   "source": [
    "### data import"
   ]
  },
  {
   "cell_type": "markdown",
   "metadata": {},
   "source": [
    "#### mouse"
   ]
  },
  {
   "cell_type": "code",
   "execution_count": 8,
   "metadata": {
    "collapsed": true
   },
   "outputs": [],
   "source": [
    "hdffile = 'data/evolutionary_trends/RRBS_MethylationData_Public.h5'\n",
    "df_original = pd.read_hdf(hdffile,'methy_mat')\n",
    "covariates = pd.read_hdf(hdffile,'covariates')\n",
    "covariates['Age_month'] = covariates['age_days']/30.42\n",
    "df_reizelonly = df_original.loc[covariates.study == 'PRJNA257275',:]\n",
    "covariates_reizel = covariates.loc[covariates.study == 'PRJNA257275',:]"
   ]
  },
  {
   "cell_type": "code",
   "execution_count": 9,
   "metadata": {
    "collapsed": false
   },
   "outputs": [
    {
     "name": "stderr",
     "output_type": "stream",
     "text": [
      "/cellar/users/twang/anaconda/lib/python2.7/site-packages/pandas/core/indexing.py:288: SettingWithCopyWarning: \n",
      "A value is trying to be set on a copy of a slice from a DataFrame.\n",
      "Try using .loc[row_indexer,col_indexer] = value instead\n",
      "\n",
      "See the caveats in the documentation: http://pandas.pydata.org/pandas-docs/stable/indexing.html#indexing-view-versus-copy\n",
      "  self.obj[key] = _infer_fill_value(value)\n",
      "/cellar/users/twang/anaconda/lib/python2.7/site-packages/pandas/core/indexing.py:465: SettingWithCopyWarning: \n",
      "A value is trying to be set on a copy of a slice from a DataFrame.\n",
      "Try using .loc[row_indexer,col_indexer] = value instead\n",
      "\n",
      "See the caveats in the documentation: http://pandas.pydata.org/pandas-docs/stable/indexing.html#indexing-view-versus-copy\n",
      "  self.obj[item] = s\n"
     ]
    }
   ],
   "source": [
    "covariates_reizel.loc[covariates_reizel.age_days<=21,'Age category'] = '<=0.7'\n",
    "covariates_reizel.loc[(covariates_reizel.age_days>21) & (covariates_reizel.age_days<=140),'Age category'] = '(0.7,4.6]'\n",
    "covariates_reizel.loc[(covariates_reizel.age_days>140) & (covariates_reizel.age_days<=217),'Age category'] = '(4.6,7.1]'"
   ]
  },
  {
   "cell_type": "markdown",
   "metadata": {},
   "source": [
    "#### human"
   ]
  },
  {
   "cell_type": "code",
   "execution_count": 10,
   "metadata": {
    "collapsed": true
   },
   "outputs": [],
   "source": [
    "hdfhuman = 'data/evolutionary_trends/HumanLiverData_BMIQNormed.h5'\n",
    "human_data = pd.read_hdf(hdfhuman,'methy_mat')\n",
    "human_covs = pd.read_hdf(hdfhuman,'covariates')\n",
    "gse_61 = human_data.loc[human_covs[human_covs.Study=='GSE61258'].index]\n",
    "gse_48 = human_data.loc[human_covs[human_covs.Study=='GSE48325'].index]"
   ]
  },
  {
   "cell_type": "code",
   "execution_count": 11,
   "metadata": {
    "collapsed": true
   },
   "outputs": [],
   "source": [
    "categorizing_humans = human_covs.copy()\n",
    "categorizing_humans = pd.DataFrame(categorizing_humans)\n",
    "categorizing_humans.loc[(categorizing_humans.age<=25),'Age category'] = '<=25'\n",
    "categorizing_humans.loc[(categorizing_humans.age>25) &(categorizing_humans.age<=50),'Age category'] = '(25-50]'\n",
    "categorizing_humans.loc[(categorizing_humans.age>50) &(categorizing_humans.age<=75),'Age category'] = '(50-75]'\n",
    "categorizing_humans.loc[(categorizing_humans.age>75),'Age category'] = '>75'"
   ]
  },
  {
   "cell_type": "code",
   "execution_count": 12,
   "metadata": {
    "collapsed": true
   },
   "outputs": [],
   "source": [
    "covs_61 = categorizing_humans.loc[gse_61.index]"
   ]
  },
  {
   "cell_type": "markdown",
   "metadata": {},
   "source": [
    "### Evolutionary trends Common space"
   ]
  },
  {
   "cell_type": "code",
   "execution_count": 13,
   "metadata": {
    "collapsed": false
   },
   "outputs": [
    {
     "name": "stdout",
     "output_type": "stream",
     "text": [
      "Background_humanspace 4635 2634\n"
     ]
    }
   ],
   "source": [
    "map_mouse_to_human_probes = 'data/evolutionary_trends/RRBS_MouseSitesConsidered_450K_intersects.txt'\n",
    "file_dict_background = {'Background_humanspace':map_mouse_to_human_probes}\n",
    "site_2_probe_dict = match_site2probe(file_dict_background)"
   ]
  },
  {
   "cell_type": "code",
   "execution_count": 14,
   "metadata": {
    "collapsed": true
   },
   "outputs": [],
   "source": [
    "conserved_mouse_space,corr_df = collapse_mouse_2human_probe(df_reizelonly,site_2_probe_dict)"
   ]
  },
  {
   "cell_type": "code",
   "execution_count": 15,
   "metadata": {
    "collapsed": true
   },
   "outputs": [],
   "source": [
    "#conserved_hdf_mouse = 'data/evolutionary_trends/Reizel_humanprobes_commonspace.h5'\n",
    "#df_dict = {'methy_mat':conserved_mouse_space.loc[df_reizelonly.index],'covariates':covariates_reizel.loc[df_reizelonly.index]}\n",
    "#twto.save_hdf_file(df_dict,conserved_hdf_mouse)"
   ]
  },
  {
   "cell_type": "markdown",
   "metadata": {},
   "source": [
    "These 2,634 sites were used to assess which sites were commonly aged associated using similar strategy as taken in the age-associated section. Since the space is so small and the number of samples we have are limited, we carry this out in Reizel only or in the combination of the two human datasets. Please see the script (scripts/linear_model_LRTest_HT_specifiedCovs_ForLoop_inputList.py) to see how the drop1 F-test was conducted. We did this for all markers in humans, then only considered common space probes, or the common space in mouse. Then we use a Benjamini-hochberg corrected FDR at 1% to define age-associated sites in the common space."
   ]
  },
  {
   "cell_type": "markdown",
   "metadata": {},
   "source": [
    "For human"
   ]
  },
  {
   "cell_type": "code",
   "execution_count": 16,
   "metadata": {
    "collapsed": false
   },
   "outputs": [],
   "source": [
    "marker_dict_all = {}\n",
    "results_dir = 'data/evolutionary_trends/human_age_association_results/common_space/'\n",
    "dropLRT_cfig_lines_dict = {'AllHumanAllData':['age']}\n",
    "drop_lrt_all = {}\n",
    "for key in dropLRT_cfig_lines_dict:\n",
    "    results_df = []\n",
    "    results_file_tuple = twto.make_files_tuple(results_dir,key)\n",
    "    for fname,fpath in results_file_tuple:\n",
    "        age_key = dropLRT_cfig_lines_dict[key][0]\n",
    "        df = pd.read_csv(fpath,sep='\\t',header=0,index_col=0)\n",
    "        df2save = df.loc[age_key,['pvalues_droponly','marker']]\n",
    "        results_df.append(df2save)\n",
    "    results_df = pd.concat(results_df)\n",
    "    results_df_nonans = results_df.dropna()\n",
    "    drop_lrt_all['Human']=results_df_nonans"
   ]
  },
  {
   "cell_type": "code",
   "execution_count": 17,
   "metadata": {
    "collapsed": true
   },
   "outputs": [],
   "source": [
    "marker_dict_common = {}"
   ]
  },
  {
   "cell_type": "code",
   "execution_count": 18,
   "metadata": {
    "collapsed": false
   },
   "outputs": [
    {
     "name": "stderr",
     "output_type": "stream",
     "text": [
      "/cellar/users/twang/anaconda/lib/python2.7/site-packages/ipykernel/__main__.py:3: SettingWithCopyWarning: \n",
      "A value is trying to be set on a copy of a slice from a DataFrame.\n",
      "Try using .loc[row_indexer,col_indexer] = value instead\n",
      "\n",
      "See the caveats in the documentation: http://pandas.pydata.org/pandas-docs/stable/indexing.html#indexing-view-versus-copy\n",
      "  app.launch_new_instance()\n"
     ]
    }
   ],
   "source": [
    "dfhuman = drop_lrt_all['Human']\n",
    "dfhuman_background = dfhuman.loc[dfhuman.marker.isin(site_2_probe_dict.keys())]\n",
    "dfhuman_background['fdr_bh'] = smstats.multicomp.multipletests(dfhuman_background['pvalues_droponly'],method='fdr_bh')[1]"
   ]
  },
  {
   "cell_type": "code",
   "execution_count": 19,
   "metadata": {
    "collapsed": true
   },
   "outputs": [],
   "source": [
    "marker_dict_common['human'] = dfhuman_background.loc[dfhuman_background.fdr_bh<0.01,'marker']"
   ]
  },
  {
   "cell_type": "markdown",
   "metadata": {},
   "source": [
    "For mouse"
   ]
  },
  {
   "cell_type": "code",
   "execution_count": 20,
   "metadata": {
    "collapsed": false
   },
   "outputs": [],
   "source": [
    "common_mouse_file = 'data/evolutionary_trends/mouse_age_association_results/common_space/3000_mouse_dropLRT.txt'\n",
    "common_reizel_space = pd.read_csv(common_mouse_file,sep='\\t',header=0,index_col=0)\n",
    "common_reizel_space = common_reizel_space.loc['age_days',['pvalues_droponly','marker']].dropna()\n",
    "common_reizel_space['fdr_bh'] = smstats.multicomp.multipletests(common_reizel_space['pvalues_droponly'],method='fdr_bh')[1]"
   ]
  },
  {
   "cell_type": "code",
   "execution_count": 21,
   "metadata": {
    "collapsed": true
   },
   "outputs": [],
   "source": [
    "marker_dict_common['mouse'] = common_reizel_space.loc[common_reizel_space.fdr_bh<0.01,'marker']"
   ]
  },
  {
   "cell_type": "code",
   "execution_count": 22,
   "metadata": {
    "collapsed": true
   },
   "outputs": [],
   "source": [
    "overlap_age_assc = len(set(marker_dict_common['human']).intersection(set(marker_dict_common['mouse'])))\n",
    "ageassociated_mouse = len(marker_dict_common['mouse'])\n",
    "ageassociated_human = len(marker_dict_common['human'])\n",
    "background = len(site_2_probe_dict.keys())"
   ]
  },
  {
   "cell_type": "code",
   "execution_count": 23,
   "metadata": {
    "collapsed": false
   },
   "outputs": [
    {
     "data": {
      "text/plain": [
       "0.0048320972406752294"
      ]
     },
     "execution_count": 23,
     "metadata": {},
     "output_type": "execute_result"
    }
   ],
   "source": [
    "stats.hypergeom.sf(overlap_age_assc,background,ageassociated_mouse,ageassociated_human)"
   ]
  },
  {
   "cell_type": "code",
   "execution_count": 24,
   "metadata": {
    "collapsed": false
   },
   "outputs": [
    {
     "data": {
      "image/png": "[encoded data removed]",
      "text/plain": [
       "<matplotlib.figure.Figure at 0x7f2ea29b99d0>"
      ]
     },
     "metadata": {},
     "output_type": "display_data"
    }
   ],
   "source": [
    "f, axes = plt.subplots(1, 1,figsize=(3,3))\n",
    "from matplotlib_venn import venn2,venn3, venn3_circles\n",
    "intersection = len(set(marker_dict_common['human']).intersection(set(marker_dict_common['mouse'])))\n",
    "v = venn3(subsets=(0, 0, 0, background-(ageassociated_human+ageassociated_mouse-overlap_age_assc), ageassociated_mouse-overlap_age_assc,ageassociated_human-overlap_age_assc, overlap_age_assc), set_labels = ('Age associated\\nmouse probes', 'Age associated\\nhuman probes', 'Conserved explored space\\nbetween mouse and human'), ax=axes)\n",
    "v.get_patch_by_id('111').set_color(sns.xkcd_rgb['baby blue'])\n",
    "v.get_patch_by_id('101').set_color(sns.xkcd_rgb['dark blue'])\n",
    "v.get_patch_by_id('001').set_color(sns.xkcd_rgb['grey'])\n",
    "v.get_patch_by_id('001').set_alpha(1)\n",
    "v.get_patch_by_id('011').set_color(sns.xkcd_rgb['green'])"
   ]
  },
  {
   "cell_type": "markdown",
   "metadata": {},
   "source": [
    "### Enriched regions of the commonly sampled space"
   ]
  },
  {
   "cell_type": "markdown",
   "metadata": {},
   "source": [
    "Read in human annotations marked by probes"
   ]
  },
  {
   "cell_type": "code",
   "execution_count": 25,
   "metadata": {
    "collapsed": false
   },
   "outputs": [],
   "source": [
    "#450K annotations in ENCODE data & Repeat regions\n",
    "houtdir2 = 'data/evolutionary_trends/human_features_intersection/'\n",
    "#newf = os.path.join(houtdir2,'160527_{}_intersects.bed'.format('AllProbes'))\n",
    "newf = os.path.join(houtdir2,'ManifestPIDs_Liver_intersects.txt')\n",
    "intersects_human = pd.read_csv(newf,sep='\\t',header=None)\n",
    "intersects_human.columns = ['chr','start','stop','sitename','feature','feature_chr','feature_start','feature_stop']\n",
    "intersects_human['sitename'] =[x.split(';')[0] for x in intersects_human['sitename'].values] \n",
    "intersects_human['feature'] = [x.split('/')[-1].split('_')[1].split('.')[0] for x in intersects_human['feature'].values]\n",
    "intersects_human_filter_sex = intersects_human[intersects_human['chr'].isin(['chr1', 'chr2', 'chr3', 'chr4', 'chr5', 'chr6',\n",
    "       'chr7', 'chr8', 'chr9', 'chr10', 'chr11', 'chr12', 'chr13', 'chr14',\n",
    "       'chr15', 'chr16', 'chr17', 'chr18', 'chr19', 'chr20', 'chr21',\n",
    "       'chr22'])]\n",
    "intersects_human_filter_sex_dropdups = intersects_human_filter_sex[['sitename','feature']].drop_duplicates()\n",
    "human_crosstab = pd.crosstab(intersects_human_filter_sex_dropdups['sitename'],intersects_human_filter_sex_dropdups['feature'])"
   ]
  },
  {
   "cell_type": "code",
   "execution_count": 26,
   "metadata": {
    "collapsed": false
   },
   "outputs": [
    {
     "name": "stderr",
     "output_type": "stream",
     "text": [
      "/cellar/users/twang/anaconda/lib/python2.7/site-packages/IPython/core/interactiveshell.py:2902: DtypeWarning: Columns (2,4,11,14,15) have mixed types. Specify dtype option on import or set low_memory=False.\n",
      "  interactivity=interactivity, compiler=compiler, result=result)\n"
     ]
    }
   ],
   "source": [
    "manifest_file = 'data/evolutionary_trends/human_features_intersection/wgEncodeHaibMethyl450CpgIslandDetails.txt'\n",
    "manifest = pd.read_csv(manifest_file,skiprows=range(7))\n",
    "manifest = manifest[['IlmnID','CHR','UCSC_CpG_Islands_Name','UCSC_RefGene_Group',u'Relation_to_UCSC_CpG_Island', u'Phantom',u'DMR', u'Enhancer', u'HMM_Island', u'Regulatory_Feature_Name',u'Regulatory_Feature_Group', u'DHS']][:485512]\n",
    "manifest = manifest[manifest['CHR'].isin(range(1,23))]\n",
    "split_refgenegroup = manifest['UCSC_RefGene_Group'].str.split(';').apply(np.unique).apply(pd.Series, 1).stack()\n",
    "mapping_annotations = {'TSS1500':'Promoter', 'Body':'Body', 'TSS200':'Promoter', '1stExon':'Body', \"5'UTR\":\"5'UTR\", \"3'UTR\":\"3'UTR\"}\n",
    "split_refgenegroup.index = split_refgenegroup.index.droplevel(-1)\n",
    "split_refgenegroup.name = 'SplitRefgeneGroup'\n",
    "manifest_annotations = manifest.join(split_refgenegroup.map(mapping_annotations))\n",
    "cpg_mapping = {'N_Shore':'Shore', 'S_Shelf':'Shelf', 'Island':'Island', 'S_Shore':'Shore', 'N_Shelf':'Shelf'}\n",
    "manifest_annotations['CpG'] = manifest_annotations['Relation_to_UCSC_CpG_Island'].map(cpg_mapping)"
   ]
  },
  {
   "cell_type": "code",
   "execution_count": 27,
   "metadata": {
    "collapsed": true
   },
   "outputs": [],
   "source": [
    "#450K annotations in crosstab\n",
    "tt_crosstab_concat = []\n",
    "manifest_annotations = manifest_annotations[manifest_annotations['CHR'].isin(range(1,23))]\n",
    "for feature in ['SplitRefgeneGroup','CpG','Enhancer','DHS']:\n",
    "    crosstab = pd.crosstab(manifest_annotations['IlmnID'],manifest_annotations[feature])\n",
    "    if feature in ['Enhancer','DHS']:\n",
    "        crosstab.columns=[feature]\n",
    "    tt_crosstab_concat.append(crosstab)\n",
    "crosstaball = pd.concat(tt_crosstab_concat,axis=1)\n",
    "del tt_crosstab_concat\n",
    "human_crosstab_all = pd.concat([human_crosstab,crosstaball])"
   ]
  },
  {
   "cell_type": "markdown",
   "metadata": {},
   "source": [
    "Read in mouse space probes."
   ]
  },
  {
   "cell_type": "code",
   "execution_count": 28,
   "metadata": {
    "collapsed": false
   },
   "outputs": [],
   "source": [
    "#Mouse data and annotation\n",
    "newf = 'data/evolutionary_trends/mouse_features_intersection/MouseIntersectFeatures_intersectedAll_AddedGenomicElements.txt'\n",
    "intersects_pd = pd.read_csv(newf,sep='\\t',header=None,names=['chr','start','stop','sitename','feature','feature_chr','feature_start','feature_stop'])\n",
    "#intersects_pd.columns = \n",
    "intersects_pd['feature'] = [x.split('_')[0] for x in intersects_pd['feature'].values]\n",
    "remove_filenames = ['EnsemblExons67.KnownCodingGenes.GeneNames','ucsc']\n",
    "intersects_pd = intersects_pd[~intersects_pd['feature'].isin(remove_filenames)]\n",
    "intersects_pd_nodups = intersects_pd[['sitename','feature']].drop_duplicates()\n",
    "gene_mapping = {'EnsemblGenes67.KnownCodingGenes.Promoters.Checked.merged':'Promoter','EnsemblExons67.KnownCodingGenes.Merged':'Body',\n",
    "               'EnsemblGenes67.KnownCodingGenes.Introns.Merged':'Introns',\n",
    "                'mm10CpGIslands':'Island','mm10CpGShores':'Shore','mm10CpGShelves':'Shelf','mm105UTR':\"5'UTR\",'mm103UTR':\"3'UTR\",'mm10LINES':'LINEs','mm10SINES':'SINEs','mm10LTR':'LTRs'}\n",
    "mapping_dict = {}\n",
    "for key in intersects_pd['feature'].unique():\n",
    "    if key not in gene_mapping:\n",
    "        mapping_dict[key] = key\n",
    "    else:\n",
    "        mapping_dict[key] = gene_mapping[key]\n",
    "all_features_allsites_notf_crossab = pd.crosstab(intersects_pd_nodups['sitename'],intersects_pd_nodups['feature'].map(mapping_dict))"
   ]
  },
  {
   "cell_type": "code",
   "execution_count": 29,
   "metadata": {
    "collapsed": false
   },
   "outputs": [],
   "source": [
    "#Use only the common space CpG sites and calculate odds ratios\n",
    "subset_mouse = all_features_allsites_notf_crossab.loc[list(set.union(*site_2_probe_dict.values())),:]\n",
    "subset_human = human_crosstab_all.loc[site_2_probe_dict.keys(),:]\n",
    "mouse_common_age = list(set.union(*[site_2_probe_dict[x] for x in marker_dict_common['mouse']]))\n",
    "mouse_counts_removeOverlapping = calculate_odds_ratio_removeoverlapping(subset_mouse,mouse_common_age)\n",
    "mouse_counts_removeOverlapping = mouse_counts_removeOverlapping.dropna()\n",
    "human_counts_allAge_removeOverlapping = calculate_odds_ratio_removeoverlapping(subset_human,marker_dict_common['human'])\n",
    "human_counts_allAge_removeOverlapping.index = [\"3'UTR\", \"5'UTR\", u'Bivalent', u'Body', u'DHS', u'DNase', u'Enhancer',\n",
    "       u'Enhancers', u'H3K27ac', u'H3K27me3', u'H3K36me3', u'H3K4me1',\n",
    "       u'H3K4me3', u'H3K9ac', u'H3K9me3', u'Island', u'LINEs', u'LTRs',\n",
    "       u'Promoter', u'SINEs', u'Shelf', u'Shore']\n",
    "human_counts_allAge_removeOverlapping = human_counts_allAge_removeOverlapping.dropna()"
   ]
  },
  {
   "cell_type": "code",
   "execution_count": 30,
   "metadata": {
    "collapsed": true
   },
   "outputs": [],
   "source": [
    "#Combine with the mouse dataset and remove genomic regions we can't look at in either\n",
    "mouse_human_OR_merged_all_rm = pd.concat([mouse_counts_removeOverlapping['OR'],human_counts_allAge_removeOverlapping['OR']],axis=1,keys=['Mouse','Human']).dropna()\n",
    "logtransform_ORs = np.log(mouse_human_OR_merged_all_rm).dropna()"
   ]
  },
  {
   "cell_type": "code",
   "execution_count": 31,
   "metadata": {
    "collapsed": false
   },
   "outputs": [
    {
     "data": {
      "image/png": "[encoded data removed]",
      "text/plain": [
       "<matplotlib.figure.Figure at 0x7f2dedc6f950>"
      ]
     },
     "metadata": {},
     "output_type": "display_data"
    }
   ],
   "source": [
    "order = logtransform_ORs.sort_values(by=['Mouse'],ascending=[True]).index\n",
    "order = [x for x in order if x not in ['SINEs',\"3'UTR\"]]\n",
    "pv_df_dict = {'Mouse':mouse_counts_removeOverlapping,'Human':human_counts_allAge_removeOverlapping}\n",
    "colors = sns.color_palette()\n",
    "#f,ax = plt.subplots(1,2,figsize=(4.5,4))\n",
    "f,ax = plt.subplots(1,2)\n",
    "i=0\n",
    "for species in ['Mouse','Human']:\n",
    "    axes = ax[i]\n",
    "    np.log2(mouse_human_OR_merged_all_rm.loc[order,species]).plot(kind='barh',ax=axes,alpha=0.9,width=0.7,color=colors[i])\n",
    "    axes.set_xlabel('Odds ratio of age-associated {}\\nin {} (commonly profiled space)'.format('CpG sites',species.lower()))\n",
    "    if i == 0:\n",
    "        axes.set_ylabel('Regions')\n",
    "    else:\n",
    "        axes.set_yticks([])\n",
    "    for tick in axes.get_xticklabels():\n",
    "        tick.set_fontsize(5)\n",
    "    for j,feature in enumerate(order):\n",
    "        df_vals = pv_df_dict[species]\n",
    "        pv_val = df_vals.loc[feature,'pvalue']\n",
    "        height = np.log2(df_vals.loc[feature,'OR'])\n",
    "        if pv_val < 0.05/(len(order)*2):\n",
    "            axes.annotate('*',xy=(height+[0.3,-0.5][height<0],j-.3),fontsize=9)\n",
    "    axes.set_xlim([-4.5,4.5])\n",
    "    t=axes.set_xticks([x for x in np.linspace(-4.5,4.5,9)])\n",
    "    t=axes.set_xticklabels([round(2**x,2) for x in np.linspace(-4.5,4.5,9)])\n",
    "    for m in range(len(mouse_human_OR_merged_all_rm.index.unique())):\n",
    "        axes.axhline(m+.5,color='grey',ls='--',lw=0.5)\n",
    "    i=i+1\n",
    "f.tight_layout()\n",
    "sns.despine()\n",
    "f.subplots_adjust(wspace=0.75)\n",
    "plt.show()\n",
    "plt.close()"
   ]
  },
  {
   "cell_type": "code",
   "execution_count": 32,
   "metadata": {
    "collapsed": false
   },
   "outputs": [
    {
     "data": {
      "text/plain": [
       "{'Human':              Feature        OR        pvalue\n",
       " 3'UTR          3'UTR  0.000000  2.543073e-01\n",
       " 5'UTR          5'UTR  0.821525  3.273883e-01\n",
       " Bivalent    Bivalent  1.738300  3.498462e-02\n",
       " Body            Body  0.895588  5.095605e-01\n",
       " DNase          DNAse  0.672502  1.310234e-02\n",
       " Enhancers  Enhancers  0.558242  8.254769e-04\n",
       " H3K27ac      H3K27ac  0.377767  4.381624e-07\n",
       " H3K27me3    H3K27me3  1.986952  2.318690e-02\n",
       " H3K36me3    H3K36me3  1.239793  3.684051e-01\n",
       " H3K4me1      H3K4me1  2.012929  5.023962e-02\n",
       " H3K4me3      H3K4me3  0.769606  4.720091e-01\n",
       " H3K9ac        H3K9ac  0.478460  1.580094e-03\n",
       " H3K9me3      H3K9me3  1.665550  6.283981e-01\n",
       " Island        Island  1.811560  2.780742e-02\n",
       " LINEs          LINEs  0.000000  6.200343e-01\n",
       " LTRs            LTRs  0.000000  1.000000e+00\n",
       " Promoter    Promoter  1.001955  1.000000e+00\n",
       " SINEs          SINEs  0.774603  1.000000e+00\n",
       " Shelf          Shelf  1.044434  1.000000e+00\n",
       " Shore          Shore  0.578401  7.692529e-02,\n",
       " 'Mouse':              Feature        OR        pvalue\n",
       " Feature                                     \n",
       " 3'UTR          3'UTR  0.323127  4.862153e-02\n",
       " 5'UTR          5'UTR  0.947000  8.043787e-01\n",
       " Bivalent    Bivalent  2.338396  4.328233e-08\n",
       " Body            Body  1.452113  1.298250e-02\n",
       " DNase          DNase  0.469993  7.754944e-04\n",
       " Enhancers  Enhancers  0.833406  3.717690e-01\n",
       " H3K27ac      H3K27ac  0.354881  2.123418e-12\n",
       " H3K27me3    H3K27me3  2.198334  9.571400e-08\n",
       " H3K36me3    H3K36me3  2.874484  3.364278e-04\n",
       " H3K4me1      H3K4me1  1.163451  3.309874e-01\n",
       " H3K4me3      H3K4me3  0.572687  2.061967e-03\n",
       " H3K79me2    H3K79me2  0.562058  1.404234e-04\n",
       " H3K9ac        H3K9ac  0.648804  2.046711e-02\n",
       " Introns      Introns  1.103440  5.930150e-01\n",
       " Island        Island  0.763069  1.004229e-01\n",
       " Promoter    Promoter  0.332769  2.118725e-12\n",
       " SINEs          SINEs  0.000000  1.000000e+00\n",
       " Shelf          Shelf  0.720204  5.133321e-02\n",
       " Shore          Shore  0.676706  1.460321e-01}"
      ]
     },
     "execution_count": 32,
     "metadata": {},
     "output_type": "execute_result"
    }
   ],
   "source": [
    "pv_df_dict"
   ]
  },
  {
   "cell_type": "markdown",
   "metadata": {},
   "source": [
    "### Age association trends with no respect to conservation"
   ]
  },
  {
   "cell_type": "markdown",
   "metadata": {},
   "source": [
    "For this section we made use of our multiple datasets in order to identify age associated sites. We carried out our drop1 F-test in two stages. FOr mice, we used Reizel to identify age-associated sites at a 1% FDR, then we used Orozco and Cannon to see if these sites still had an age-association at 1% FDR. For humans, we used GSE61258 to identify CpG markers at 1% FDR and then used GSE48325 to see if these age associated sites still had an age-association at a 1% FDR. For mice, we controlled for gender+treatment+study, for humans, we controlled for gender+study+bmi. Using the same script as above (y)"
   ]
  },
  {
   "cell_type": "code",
   "execution_count": 33,
   "metadata": {
    "collapsed": true
   },
   "outputs": [],
   "source": [
    "dropLRT_dicts_h2stage = {}\n",
    "outdh = 'data/evolutionary_trends/human_age_association_results/'\n",
    "results_dir = os.path.join(outdh,'humanOnly_2stage')\n",
    "#dropLRT_cfig_lines_dict = {'Hannum':['Age','Age;gender'],'EPIC':['Age','Age;gender'],'Reizel':['age_days','age_days;gender;treatment'],'Adams_NotReizel':['age_days','age_days;study;treatment']}\n",
    "#dropLRT_cfig_lines_dict = {'Reizel':['age_days','age_days;gender;treatment']}\n",
    "covar_map_dict = {'human':{'covar_string':'age;Sex;bmi','drop':'age'}}\n",
    "age_key = 'age'\n",
    "for key in ['Discovery','Validation']:\n",
    "    flist = twto.make_files_tuple(results_dir,key)\n",
    "    concatdf = []\n",
    "    for fname,results_f in flist:\n",
    "        df = pd.read_csv(results_f,sep='\\t',header=0,index_col=0)\n",
    "        df2save = df.loc[age_key,['pvalues_droponly','marker']]\n",
    "        concatdf.append(df2save)\n",
    "    df2save_nonans = pd.concat(concatdf).dropna()\n",
    "    df2save_nonans['fdr_bh'] = smstats.multicomp.multipletests(df2save_nonans['pvalues_droponly'],method='fdr_bh')[1]\n",
    "    dropLRT_dicts_h2stage[key]=df2save_nonans"
   ]
  },
  {
   "cell_type": "code",
   "execution_count": 34,
   "metadata": {
    "collapsed": true
   },
   "outputs": [],
   "source": [
    "marker_dict_human_2stage = {}\n",
    "fdrcut = 0.01\n",
    "key='Discovery'\n",
    "#for key in dropLRT_dicts_h2stage:\n",
    "df = dropLRT_dicts_h2stage[key]\n",
    "markers = df.loc[df.fdr_bh<fdrcut,'marker']\n",
    "marker_dict_human_2stage[key] = markers"
   ]
  },
  {
   "cell_type": "code",
   "execution_count": 35,
   "metadata": {
    "collapsed": true
   },
   "outputs": [],
   "source": [
    "key='Validation'\n",
    "#for key in dropLRT_dicts_h2stage:\n",
    "df = dropLRT_dicts_h2stage[key]\n",
    "df = df[df.marker.isin(marker_dict_human_2stage['Discovery'])].dropna()\n",
    "df['fdr_bh'] = smstats.multicomp.multipletests(df['pvalues_droponly'],method='fdr_bh')[1]\n",
    "markers = df.loc[df.fdr_bh<fdrcut,'marker']\n",
    "marker_dict_human_2stage[key] = markers"
   ]
  },
  {
   "cell_type": "code",
   "execution_count": 36,
   "metadata": {
    "collapsed": true
   },
   "outputs": [],
   "source": [
    "dropLRT_dicts_m2stage = {}\n",
    "results_dir = 'data/evolutionary_trends/mouse_age_association_results/all_space/'\n",
    "age_key = 'age_days'\n",
    "for key in ['Discovery','Validation']:\n",
    "    flist = twto.make_files_tuple(results_dir,key)\n",
    "    concatdf = []\n",
    "    for fname,results_f in flist:\n",
    "        df = pd.read_csv(results_f,sep='\\t',header=0,index_col=0)\n",
    "        df2save = df.loc[age_key,['pvalues_droponly','marker']]\n",
    "        concatdf.append(df2save)\n",
    "    df2save_nonans = pd.concat(concatdf).dropna()\n",
    "    df2save_nonans['fdr_bh'] = smstats.multicomp.multipletests(df2save_nonans['pvalues_droponly'],method='fdr_bh')[1]\n",
    "    dropLRT_dicts_m2stage[key]=df2save_nonans"
   ]
  },
  {
   "cell_type": "code",
   "execution_count": 37,
   "metadata": {
    "collapsed": true
   },
   "outputs": [],
   "source": [
    "marker_dict_mouse_2stage = {}\n",
    "fdrcut = 0.01\n",
    "key='Discovery'\n",
    "#for key in dropLRT_dicts_h2stage:\n",
    "df = dropLRT_dicts_m2stage[key]\n",
    "markers = df.loc[df.fdr_bh<fdrcut,'marker']\n",
    "marker_dict_mouse_2stage[key] = markers"
   ]
  },
  {
   "cell_type": "code",
   "execution_count": 38,
   "metadata": {
    "collapsed": true
   },
   "outputs": [],
   "source": [
    "key='Validation'\n",
    "#for key in dropLRT_dicts_h2stage:\n",
    "df = dropLRT_dicts_m2stage[key]\n",
    "df = df[df.marker.isin(marker_dict_mouse_2stage['Discovery'])].dropna()\n",
    "df['fdr_bh'] = smstats.multicomp.multipletests(df['pvalues_droponly'],method='fdr_bh')[1]\n",
    "markers = df.loc[df.fdr_bh<fdrcut,'marker']\n",
    "marker_dict_mouse_2stage[key] = markers"
   ]
  },
  {
   "cell_type": "code",
   "execution_count": 39,
   "metadata": {
    "collapsed": false
   },
   "outputs": [
    {
     "name": "stdout",
     "output_type": "stream",
     "text": [
      "Validation 322\n",
      "Discovery 370\n"
     ]
    }
   ],
   "source": [
    "for key in marker_dict_human_2stage:\n",
    "    print key, len(marker_dict_human_2stage[key])"
   ]
  },
  {
   "cell_type": "code",
   "execution_count": 40,
   "metadata": {
    "collapsed": false
   },
   "outputs": [
    {
     "name": "stdout",
     "output_type": "stream",
     "text": [
      "Validation 393\n",
      "Discovery 1188\n"
     ]
    }
   ],
   "source": [
    "for key in marker_dict_mouse_2stage:\n",
    "    print key, len(marker_dict_mouse_2stage[key])"
   ]
  },
  {
   "cell_type": "markdown",
   "metadata": {},
   "source": [
    "We calculate the entropy for the discovery datasets using the validated age-associated markers"
   ]
  },
  {
   "cell_type": "code",
   "execution_count": 42,
   "metadata": {
    "collapsed": true
   },
   "outputs": [],
   "source": [
    "entropy_age_reizel = entropy(df_reizelonly,marker_dict_mouse_2stage['Validation'])\n",
    "entropy_61 = entropy(gse_61,marker_dict_human_2stage['Validation'])"
   ]
  },
  {
   "cell_type": "code",
   "execution_count": 47,
   "metadata": {
    "collapsed": false
   },
   "outputs": [
    {
     "data": {
      "image/png": "[encoded data removed]",
      "text/plain": [
       "<matplotlib.figure.Figure at 0x7f4cfa399250>"
      ]
     },
     "metadata": {},
     "output_type": "display_data"
    }
   ],
   "source": [
    "color_pallete_human = sns.color_palette(\"Greens\",4)\n",
    "fsize=(4,2)\n",
    "f,axes = plt.subplots(1,1,figsize=fsize)\n",
    "#f,axes = plt.subplots(1,1)\n",
    "ax = sns.swarmplot(x=covs_61['Age category'],y=entropy_61,order=['<=25','(25-50]','(50-75]','>75'],size=3,\n",
    "                   palette=color_pallete_human,ax=axes,linewidth=0.5)\n",
    "ax.set_ylabel('Entropy of\\nage-associated\\nCpG sites in human')\n",
    "ax.set_xlabel('Chronological age category in years')\n",
    "#ax.set_title('Entropy of human age sites')\n",
    "yticks2plot = ax.get_yticks()\n",
    "#ax.set_yticks(yticks2plot)\n",
    "#ax.annotate('r = {}'.format(round(categorizing_humans['Age'].corr(entropy_human_age),2)),xy=(-0.25,ax.get_ylim()[1]-1.5*(yticks2plot[1]-yticks2plot[0])/2),fontsize=8)\n",
    "ax.annotate('r = {0:.2f}'.format(round(covs_61['age'].corr(entropy_61),2)),xy=(-0.25,ax.get_ylim()[1]-1.5*(yticks2plot[1]-yticks2plot[0])/2))\n",
    "for tick in axes.get_xticklabels():\n",
    "    tick.set_rotation(20)\n",
    "sns.despine()"
   ]
  },
  {
   "cell_type": "code",
   "execution_count": 49,
   "metadata": {
    "collapsed": false
   },
   "outputs": [
    {
     "data": {
      "image/png": "[encoded data removed]",
      "text/plain": [
       "<matplotlib.figure.Figure at 0x7f4cf569d150>"
      ]
     },
     "metadata": {},
     "output_type": "display_data"
    }
   ],
   "source": [
    "fsize=(4,2)\n",
    "f,axes = plt.subplots(1,1,figsize=fsize)\n",
    "#f,axes = plt.subplots(1,1)\n",
    "color_pallete_human = sns.color_palette(\"Greens\",4)\n",
    "color_pallete_mouse = sns.color_palette(\"Blues\",3)\n",
    "ax = sns.swarmplot(x=covariates_reizel['Age category'],y=entropy_age_reizel,palette=color_pallete_mouse,ax=axes,linewidth=0.5,size=3)\n",
    "ax.set_xlabel('Chronological age category in months')\n",
    "ax.set_ylabel('Entropy of\\nage-associated\\nCpG sites in mouse')\n",
    "ax.annotate('r = {0:.2f}'.format(round(covariates_reizel['age_days'].corr(entropy_age_reizel),2)),xy=(-0.25,ax.get_ylim()[1]-1.5*(yticks2plot[1]-yticks2plot[0])/2))\n",
    "for tick in axes.get_xticklabels():\n",
    "    tick.set_rotation(20)\n",
    "sns.despine()"
   ]
  },
  {
   "cell_type": "code",
   "execution_count": null,
   "metadata": {
    "collapsed": true
   },
   "outputs": [],
   "source": []
  }
 ],
 "metadata": {
  "kernelspec": {
   "display_name": "Python 2",
   "language": "python",
   "name": "python2"
  },
  "language_info": {
   "codemirror_mode": {
    "name": "ipython",
    "version": 2
   },
   "file_extension": ".py",
   "mimetype": "text/x-python",
   "name": "python",
   "nbconvert_exporter": "python",
   "pygments_lexer": "ipython2",
   "version": "2.7.12"
  }
 },
 "nbformat": 4,
 "nbformat_minor": 0
}
