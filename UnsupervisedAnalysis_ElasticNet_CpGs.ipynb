{
 "cells": [
  {
   "cell_type": "markdown",
   "metadata": {},
   "source": [
    "In this notebook we use the ElasticNet selected sites to assess their similarities in long-lived mice and their age-matched controls."
   ]
  },
  {
   "cell_type": "markdown",
   "metadata": {},
   "source": [
    "### Notebook imports"
   ]
  },
  {
   "cell_type": "code",
   "execution_count": 1,
   "metadata": {
    "collapsed": true
   },
   "outputs": [],
   "source": [
    "import pandas as pd\n",
    "import statsmodels.api as sm\n",
    "import statsmodels.sandbox.stats as smstats\n",
    "import statsmodels.formula.api as smf\n",
    "import numpy as np\n",
    "import scipy.stats as stats\n",
    "\n",
    "import matplotlib.pyplot as plt\n",
    "import matplotlib as mpl\n",
    "mpl.rcParams['pdf.fonttype'] = 42\n",
    "mpl.rcParams['legend.numpoints'] = 1\n",
    "import seaborn as sns\n",
    "%matplotlib inline\n",
    "import matplotlib.patches as mpatches\n",
    "\n",
    "import imp\n",
    "twto = imp.load_source('twto','scripts/twang_toolbox.py')\n",
    "meth = imp.load_source('meth','scripts/methy_parsing.py')"
   ]
  },
  {
   "cell_type": "code",
   "execution_count": 2,
   "metadata": {
    "collapsed": true
   },
   "outputs": [],
   "source": [
    "#Used for paper\n",
    "sns.set(context = \"paper\", style='ticks',rc={\"font.size\":8,\"legend.fontsize\":5,\"axes.titlesize\":8,\n",
    "                             \"axes.labelsize\":6,\"xtick.labelsize\":6,\"ytick.labelsize\":6, 'xtick.major.size': 3.0,\n",
    " 'xtick.minor.size': 1.0,'ytick.major.size': 3.0,\n",
    " 'ytick.minor.size': 1.0})"
   ]
  },
  {
   "cell_type": "code",
   "execution_count": 3,
   "metadata": {
    "collapsed": true
   },
   "outputs": [],
   "source": [
    "sns.set(context='notebook',style='white')"
   ]
  },
  {
   "cell_type": "markdown",
   "metadata": {},
   "source": [
    "### Data import"
   ]
  },
  {
   "cell_type": "code",
   "execution_count": 4,
   "metadata": {
    "collapsed": false
   },
   "outputs": [],
   "source": [
    "enet_markers_f = 'data/unsupervised_analysis/EnetSites.txt'\n",
    "enet_markers = twto.read_single_col_file(enet_markers_f)"
   ]
  },
  {
   "cell_type": "code",
   "execution_count": 5,
   "metadata": {
    "collapsed": false
   },
   "outputs": [
    {
     "data": {
      "text/plain": [
       "148"
      ]
     },
     "execution_count": 5,
     "metadata": {},
     "output_type": "execute_result"
    }
   ],
   "source": [
    "len(enet_markers)"
   ]
  },
  {
   "cell_type": "code",
   "execution_count": 6,
   "metadata": {
    "collapsed": false
   },
   "outputs": [],
   "source": [
    "hdffile = 'data/AllData_combatnonpara_logage.h5'\n",
    "combined_df = pd.read_hdf(hdffile,'methy_mat')\n",
    "adams_covar = pd.read_csv('data/meta_data/AdamsMetaData.txt',sep='\\t',header=0,index_col=0)"
   ]
  },
  {
   "cell_type": "code",
   "execution_count": 7,
   "metadata": {
    "collapsed": false
   },
   "outputs": [],
   "source": [
    "adams_combined = combined_df.loc[adams_covar.index]"
   ]
  },
  {
   "cell_type": "markdown",
   "metadata": {},
   "source": [
    "### Conduct PCA"
   ]
  },
  {
   "cell_type": "code",
   "execution_count": 8,
   "metadata": {
    "collapsed": true
   },
   "outputs": [],
   "source": [
    "adams_combined_enet =adams_combined[enet_markers]\n",
    "adams_combined_enet_centered = adams_combined_enet-adams_combined_enet.mean()\n",
    "X_r,exp = meth.do_pca_2components(adams_combined_enet_centered)\n",
    "pc_df = pd.DataFrame(X_r,index=adams_combined.index,columns=['pc1','pc2'])\n",
    "adams_pca = adams_covar.join(pc_df)"
   ]
  },
  {
   "cell_type": "code",
   "execution_count": 9,
   "metadata": {
    "collapsed": false
   },
   "outputs": [
    {
     "data": {
      "image/png": "[encoded data removed]",
      "text/plain": [
       "<matplotlib.figure.Figure at 0x7f1b885c2410>"
      ]
     },
     "metadata": {},
     "output_type": "display_data"
    }
   ],
   "source": [
    "#fig = plt.figure(figsize=(5,5)) \n",
    "#gs.update(wspace=0.5,hspace=1.1) \n",
    "f,axes = plt.subplots(1,1,figsize=(5,5))\n",
    "map_treatment = {'NT':'NT', 'WT':'NT', 'D':'D', 'Rapa':'Rapa', 'CR':'CR'}\n",
    "#adams_pca = pc_dict[lab]\n",
    "adams_pca['treatment'] = adams_pca['treatment'].map(map_treatment)\n",
    "#adams_pca['pc1'] = adams_pca['pc1']*-1\n",
    "var = exp\n",
    "cc = sns.color_palette(\"Set2\", 8).as_hex()\n",
    "i=0\n",
    "adams_age_pal_dict = {22:sns.xkcd_rgb['black'],2:sns.xkcd_rgb[\"grey\"]}\n",
    "map_treatment_dict = {'Ames':{'D':'Ames\\ndwarf','NT':'Ames'},'Miller':{'NT':'UMHET3','Rapa':'UMHET3 Rapa','CR':'UMHET3 CR'}}\n",
    "adams_xkcd_pal_dict = {'Ames':{2:{'D':sns.xkcd_rgb[\"baby blue\"],'NT':sns.xkcd_rgb[\"ocean blue\"]},22:{'D':sns.xkcd_rgb[\"grey blue\"],'NT':sns.xkcd_rgb[\"deep blue\"]}},\n",
    "                       'Miller':{2:{'NT':sns.xkcd_rgb[\"greenish blue\"]},22:{'NT':sns.xkcd_rgb[\"dark green\"],'Rapa':sns.xkcd_rgb[\"olive\"],'CR':sns.xkcd_rgb[\"greenish grey\"]}}}\n",
    "markers_dict = {'Ames':{'D':'H','NT':'o'},'Miller':{'NT':'D','Rapa':'d','CR':'s'}}\n",
    "map_treatment_dict = {'Ames':{'D':'Dwarf','NT':'Ames'},'Miller':{'NT':'UM-HET3','Rapa':'Rapa','CR':'CR'}}\n",
    "handles=[]\n",
    "labels=[]\n",
    "for k3,grp in adams_pca.groupby('Age_month'):\n",
    "    i=0\n",
    "    for k,grp2 in grp.groupby('mouse'):\n",
    "        markers = markers_dict[k]\n",
    "        map_treatment = map_treatment_dict[k]\n",
    "        for tt,grp3 in grp2.groupby('treatment'):\n",
    "            color = adams_xkcd_pal_dict[k][k3][tt]\n",
    "            lab = '{}m {}'.format(k3,map_treatment[tt])\n",
    "            edge = axes.scatter(grp3['pc1'],grp3['pc2'],label=lab,marker=markers[tt],color=color,facecolor='none',linewidth=0.5,s=25)\n",
    "            face = axes.scatter(grp3['pc1'],grp3['pc2'],label=lab,marker=markers[tt],color=color,s=25,alpha=0.6)\n",
    "            if lab not in labels:\n",
    "                handles.append((edge,face))\n",
    "                labels.append(lab)\n",
    "#handles,labels = axes.get_legend_handles_labels()\n",
    "axes.set_xlabel('Principal Component 1')\n",
    "axes.set_ylabel('Principal Component 2')\n",
    "#axes = plt.subplot2grid((2,2),(1,1),colspan=2)\n",
    "#axes.legend([handles[1],handles[5]]+handles[9:12:2]+[handles[-1]],[labels[1],labels[5]]+labels[9:12:2]+[labels[-1]],\n",
    "#            frameon=True,ncol=3,\n",
    "            #bbox_to_anchor=(1,0.5),\n",
    "#            loc='lower left',\n",
    "#            columnspacing=0.1,labelspacing=0.1,handletextpad=0.1)\n",
    "#axes.set_ylim([-2,2])\n",
    "axes.legend(handles,labels,frameon=True,ncol=4,columnspacing=0.5,labelspacing=0.5,handletextpad=0.5\n",
    "            ,bbox_to_anchor=(1.1,1.25),markerscale=0.8)\n",
    "sns.despine()\n",
    "plt.show()\n",
    "plt.close()"
   ]
  },
  {
   "cell_type": "code",
   "execution_count": 10,
   "metadata": {
    "collapsed": false
   },
   "outputs": [
    {
     "name": "stderr",
     "output_type": "stream",
     "text": [
      "/cellar/users/twang/anaconda/lib/python2.7/site-packages/ipykernel/__main__.py:16: SettingWithCopyWarning: \n",
      "A value is trying to be set on a copy of a slice from a DataFrame.\n",
      "Try using .loc[row_indexer,col_indexer] = value instead\n",
      "\n",
      "See the caveats in the documentation: http://pandas.pydata.org/pandas-docs/stable/indexing.html#indexing-view-versus-copy\n"
     ]
    },
    {
     "data": {
      "image/png": "[encoded data removed]",
      "text/plain": [
       "<matplotlib.figure.Figure at 0x7f1b0379d310>"
      ]
     },
     "metadata": {},
     "output_type": "display_data"
    }
   ],
   "source": [
    "f,axes = plt.subplots(1,2,figsize=(6.5,2))\n",
    "axes_a = axes[0]\n",
    "axes_m = axes[1]\n",
    "axes_dict = {'Ames':axes_a,'Miller':axes_m}\n",
    "map_mouse_dict = {'Ames':'Ames\\ncontrol','Miller':'UM-HET3\\ncontrol'}\n",
    "map_mouse_colors = {'Ames':[sns.xkcd_rgb[\"baby blue\"],sns.xkcd_rgb[\"ocean blue\"],sns.xkcd_rgb[\"grey blue\"],sns.xkcd_rgb[\"deep blue\"]],\n",
    "                    'Miller':[sns.xkcd_rgb[\"greenish blue\"],sns.xkcd_rgb[\"dark green\"],sns.xkcd_rgb[\"olive\"],sns.xkcd_rgb[\"greenish grey\"]]}\n",
    "map_cohort_names = {'DY':'2m\\nDwarf','WTY':'2m\\nWild type','DO':'22m\\nDwarf','WTO':'22m\\nWild typed',\n",
    "                    'Young':'2m\\nWild type','Old':'22m\\nWild type','Rapa':'22m\\nRapa','CR':'22m\\nCR'}\n",
    "map_mouse = {'Ames':'Ames','Miller':'UM-HET3'}\n",
    "order_dict = {'Ames':[map_cohort_names[x] for x in ['DY','WTY','DO','WTO']],'Miller':[map_cohort_names[x] for x in ['Young','Old','Rapa','CR']]}\n",
    "for k,grp in adams_pca.groupby('mouse'):\n",
    "    i=0\n",
    "    ax = axes_dict[k]\n",
    "    color = map_mouse_colors[k]\n",
    "    grp['Treatment'] = grp['Cohort'].map(map_cohort_names)\n",
    "    ax = sns.swarmplot(x=grp['Treatment'],y=grp['pc1'],color='black',order=order_dict[k],ax=ax,size=5,alpha=0.7)\n",
    "    ax.set_ylabel('Principal component 1')\n",
    "    ax.set_xlabel('')\n",
    "    #ax.set_xlabel(map_mouse[k])\n",
    "    ax.set_ylim([-2.5,2.5])\n",
    "    sns.despine()\n",
    "sns.despine()\n",
    "f.tight_layout()\n",
    "plt.show()\n",
    "plt.close()"
   ]
  },
  {
   "cell_type": "code",
   "execution_count": 11,
   "metadata": {
    "collapsed": true
   },
   "outputs": [],
   "source": [
    "ames_pca = adams_pca.loc[adams_pca.mouse=='Ames']\n",
    "umhet_pca = adams_pca.loc[adams_pca.mouse=='Miller']"
   ]
  },
  {
   "cell_type": "code",
   "execution_count": 12,
   "metadata": {
    "collapsed": false
   },
   "outputs": [
    {
     "name": "stderr",
     "output_type": "stream",
     "text": [
      "/cellar/users/twang/anaconda/lib/python2.7/site-packages/ipykernel/__main__.py:3: SettingWithCopyWarning: \n",
      "A value is trying to be set on a copy of a slice from a DataFrame.\n",
      "Try using .loc[row_indexer,col_indexer] = value instead\n",
      "\n",
      "See the caveats in the documentation: http://pandas.pydata.org/pandas-docs/stable/indexing.html#indexing-view-versus-copy\n",
      "  app.launch_new_instance()\n"
     ]
    }
   ],
   "source": [
    "treatments_ames = ames_pca.treatment\n",
    "treatments_ames_cat = treatments_ames.astype(\"category\", categories=[\"WT\",\"D\"], ordered=False)\n",
    "ames_pca['treatmentcat'] = treatments_ames_cat"
   ]
  },
  {
   "cell_type": "code",
   "execution_count": 13,
   "metadata": {
    "collapsed": false
   },
   "outputs": [
    {
     "name": "stderr",
     "output_type": "stream",
     "text": [
      "/cellar/users/twang/anaconda/lib/python2.7/site-packages/scipy/stats/stats.py:1326: UserWarning: kurtosistest only valid for n>=20 ... continuing anyway, n=8\n",
      "  \"anyway, n=%i\" % int(n))\n"
     ]
    },
    {
     "data": {
      "text/html": [
       "<table class=\"simpletable\">\n",
       "<caption>OLS Regression Results</caption>\n",
       "<tr>\n",
       "  <th>Dep. Variable:</th>           <td>pc1</td>       <th>  R-squared:         </th> <td>   0.980</td>\n",
       "</tr>\n",
       "<tr>\n",
       "  <th>Model:</th>                   <td>OLS</td>       <th>  Adj. R-squared:    </th> <td>   0.976</td>\n",
       "</tr>\n",
       "<tr>\n",
       "  <th>Method:</th>             <td>Least Squares</td>  <th>  F-statistic:       </th> <td>   289.1</td>\n",
       "</tr>\n",
       "<tr>\n",
       "  <th>Date:</th>             <td>Wed, 28 Dec 2016</td> <th>  Prob (F-statistic):</th> <td>2.65e-06</td>\n",
       "</tr>\n",
       "<tr>\n",
       "  <th>Time:</th>                 <td>13:59:25</td>     <th>  Log-Likelihood:    </th> <td>  6.3019</td>\n",
       "</tr>\n",
       "<tr>\n",
       "  <th>No. Observations:</th>      <td>     8</td>      <th>  AIC:               </th> <td>  -8.604</td>\n",
       "</tr>\n",
       "<tr>\n",
       "  <th>Df Residuals:</th>          <td>     6</td>      <th>  BIC:               </th> <td>  -8.445</td>\n",
       "</tr>\n",
       "<tr>\n",
       "  <th>Df Model:</th>              <td>     1</td>      <th>                     </th>     <td> </td>   \n",
       "</tr>\n",
       "<tr>\n",
       "  <th>Covariance Type:</th>      <td>nonrobust</td>    <th>                     </th>     <td> </td>   \n",
       "</tr>\n",
       "</table>\n",
       "<table class=\"simpletable\">\n",
       "<tr>\n",
       "          <td></td>             <th>coef</th>     <th>std err</th>      <th>t</th>      <th>P>|t|</th> <th>[95.0% Conf. Int.]</th> \n",
       "</tr>\n",
       "<tr>\n",
       "  <th>Intercept</th>         <td>   -1.0432</td> <td>    0.035</td> <td>  -29.726</td> <td> 0.000</td> <td>   -1.129    -0.957</td>\n",
       "</tr>\n",
       "<tr>\n",
       "  <th>treatmentcat[T.D]</th> <td>   -1.0432</td> <td>    0.035</td> <td>  -29.726</td> <td> 0.000</td> <td>   -1.129    -0.957</td>\n",
       "</tr>\n",
       "<tr>\n",
       "  <th>Age_month</th>         <td>    0.0764</td> <td>    0.004</td> <td>   17.004</td> <td> 0.000</td> <td>    0.065     0.087</td>\n",
       "</tr>\n",
       "</table>\n",
       "<table class=\"simpletable\">\n",
       "<tr>\n",
       "  <th>Omnibus:</th>       <td> 2.315</td> <th>  Durbin-Watson:     </th> <td>   2.977</td>\n",
       "</tr>\n",
       "<tr>\n",
       "  <th>Prob(Omnibus):</th> <td> 0.314</td> <th>  Jarque-Bera (JB):  </th> <td>   0.794</td>\n",
       "</tr>\n",
       "<tr>\n",
       "  <th>Skew:</th>          <td>-0.002</td> <th>  Prob(JB):          </th> <td>   0.672</td>\n",
       "</tr>\n",
       "<tr>\n",
       "  <th>Kurtosis:</th>      <td> 1.457</td> <th>  Cond. No.          </th> <td>3.54e+16</td>\n",
       "</tr>\n",
       "</table>"
      ],
      "text/plain": [
       "<class 'statsmodels.iolib.summary.Summary'>\n",
       "\"\"\"\n",
       "                            OLS Regression Results                            \n",
       "==============================================================================\n",
       "Dep. Variable:                    pc1   R-squared:                       0.980\n",
       "Model:                            OLS   Adj. R-squared:                  0.976\n",
       "Method:                 Least Squares   F-statistic:                     289.1\n",
       "Date:                Wed, 28 Dec 2016   Prob (F-statistic):           2.65e-06\n",
       "Time:                        13:59:25   Log-Likelihood:                 6.3019\n",
       "No. Observations:                   8   AIC:                            -8.604\n",
       "Df Residuals:                       6   BIC:                            -8.445\n",
       "Df Model:                           1                                         \n",
       "Covariance Type:            nonrobust                                         \n",
       "=====================================================================================\n",
       "                        coef    std err          t      P>|t|      [95.0% Conf. Int.]\n",
       "-------------------------------------------------------------------------------------\n",
       "Intercept            -1.0432      0.035    -29.726      0.000        -1.129    -0.957\n",
       "treatmentcat[T.D]    -1.0432      0.035    -29.726      0.000        -1.129    -0.957\n",
       "Age_month             0.0764      0.004     17.004      0.000         0.065     0.087\n",
       "==============================================================================\n",
       "Omnibus:                        2.315   Durbin-Watson:                   2.977\n",
       "Prob(Omnibus):                  0.314   Jarque-Bera (JB):                0.794\n",
       "Skew:                          -0.002   Prob(JB):                        0.672\n",
       "Kurtosis:                       1.457   Cond. No.                     3.54e+16\n",
       "==============================================================================\n",
       "\n",
       "Warnings:\n",
       "[1] Standard Errors assume that the covariance matrix of the errors is correctly specified.\n",
       "[2] The smallest eigenvalue is 1.57e-30. This might indicate that there are\n",
       "strong multicollinearity problems or that the design matrix is singular.\n",
       "\"\"\""
      ]
     },
     "execution_count": 13,
     "metadata": {},
     "output_type": "execute_result"
    }
   ],
   "source": [
    "mod_ames = smf.ols('pc1~Age_month+treatmentcat',data=ames_pca).fit()\n",
    "mod_ames.summary()"
   ]
  },
  {
   "cell_type": "code",
   "execution_count": 14,
   "metadata": {
    "collapsed": false
   },
   "outputs": [
    {
     "data": {
      "text/plain": [
       "Intercept            9.610992e-08\n",
       "treatmentcat[T.D]    9.610992e-08\n",
       "Age_month            2.646038e-06\n",
       "dtype: float64"
      ]
     },
     "execution_count": 14,
     "metadata": {},
     "output_type": "execute_result"
    }
   ],
   "source": [
    "mod_ames.pvalues"
   ]
  },
  {
   "cell_type": "code",
   "execution_count": 15,
   "metadata": {
    "collapsed": false
   },
   "outputs": [
    {
     "name": "stderr",
     "output_type": "stream",
     "text": [
      "/cellar/users/twang/anaconda/lib/python2.7/site-packages/ipykernel/__main__.py:4: SettingWithCopyWarning: \n",
      "A value is trying to be set on a copy of a slice from a DataFrame.\n",
      "Try using .loc[row_indexer,col_indexer] = value instead\n",
      "\n",
      "See the caveats in the documentation: http://pandas.pydata.org/pandas-docs/stable/indexing.html#indexing-view-versus-copy\n"
     ]
    }
   ],
   "source": [
    "#Multivariate linear model with UM-HET3 background\n",
    "umhet3_treatment = umhet_pca.treatment\n",
    "umhet3_treatmentcat = umhet3_treatment.astype(\"category\", categories=[\"NT\",\"CR\",\"Rapa\"], ordered=False)\n",
    "umhet_pca['treatmentcat'] = umhet3_treatmentcat"
   ]
  },
  {
   "cell_type": "code",
   "execution_count": 16,
   "metadata": {
    "collapsed": false
   },
   "outputs": [
    {
     "name": "stderr",
     "output_type": "stream",
     "text": [
      "/cellar/users/twang/anaconda/lib/python2.7/site-packages/scipy/stats/stats.py:1326: UserWarning: kurtosistest only valid for n>=20 ... continuing anyway, n=16\n",
      "  \"anyway, n=%i\" % int(n))\n"
     ]
    },
    {
     "data": {
      "text/html": [
       "<table class=\"simpletable\">\n",
       "<caption>OLS Regression Results</caption>\n",
       "<tr>\n",
       "  <th>Dep. Variable:</th>           <td>pc1</td>       <th>  R-squared:         </th> <td>   0.949</td>\n",
       "</tr>\n",
       "<tr>\n",
       "  <th>Model:</th>                   <td>OLS</td>       <th>  Adj. R-squared:    </th> <td>   0.936</td>\n",
       "</tr>\n",
       "<tr>\n",
       "  <th>Method:</th>             <td>Least Squares</td>  <th>  F-statistic:       </th> <td>   74.66</td>\n",
       "</tr>\n",
       "<tr>\n",
       "  <th>Date:</th>             <td>Wed, 28 Dec 2016</td> <th>  Prob (F-statistic):</th> <td>4.96e-08</td>\n",
       "</tr>\n",
       "<tr>\n",
       "  <th>Time:</th>                 <td>13:59:27</td>     <th>  Log-Likelihood:    </th> <td>  11.464</td>\n",
       "</tr>\n",
       "<tr>\n",
       "  <th>No. Observations:</th>      <td>    16</td>      <th>  AIC:               </th> <td>  -14.93</td>\n",
       "</tr>\n",
       "<tr>\n",
       "  <th>Df Residuals:</th>          <td>    12</td>      <th>  BIC:               </th> <td>  -11.84</td>\n",
       "</tr>\n",
       "<tr>\n",
       "  <th>Df Model:</th>              <td>     3</td>      <th>                     </th>     <td> </td>   \n",
       "</tr>\n",
       "<tr>\n",
       "  <th>Covariance Type:</th>      <td>nonrobust</td>    <th>                     </th>     <td> </td>   \n",
       "</tr>\n",
       "</table>\n",
       "<table class=\"simpletable\">\n",
       "<tr>\n",
       "            <td></td>              <th>coef</th>     <th>std err</th>      <th>t</th>      <th>P>|t|</th> <th>[95.0% Conf. Int.]</th> \n",
       "</tr>\n",
       "<tr>\n",
       "  <th>Intercept</th>            <td>   -0.5240</td> <td>    0.075</td> <td>   -6.952</td> <td> 0.000</td> <td>   -0.688    -0.360</td>\n",
       "</tr>\n",
       "<tr>\n",
       "  <th>treatmentcat[T.CR]</th>   <td>   -0.4656</td> <td>    0.097</td> <td>   -4.825</td> <td> 0.000</td> <td>   -0.676    -0.255</td>\n",
       "</tr>\n",
       "<tr>\n",
       "  <th>treatmentcat[T.Rapa]</th> <td>   -0.2269</td> <td>    0.097</td> <td>   -2.351</td> <td> 0.037</td> <td>   -0.437    -0.017</td>\n",
       "</tr>\n",
       "<tr>\n",
       "  <th>Age_month</th>            <td>    0.0674</td> <td>    0.005</td> <td>   13.959</td> <td> 0.000</td> <td>    0.057     0.078</td>\n",
       "</tr>\n",
       "</table>\n",
       "<table class=\"simpletable\">\n",
       "<tr>\n",
       "  <th>Omnibus:</th>       <td> 2.798</td> <th>  Durbin-Watson:     </th> <td>   2.249</td>\n",
       "</tr>\n",
       "<tr>\n",
       "  <th>Prob(Omnibus):</th> <td> 0.247</td> <th>  Jarque-Bera (JB):  </th> <td>   1.788</td>\n",
       "</tr>\n",
       "<tr>\n",
       "  <th>Skew:</th>          <td> 0.814</td> <th>  Prob(JB):          </th> <td>   0.409</td>\n",
       "</tr>\n",
       "<tr>\n",
       "  <th>Kurtosis:</th>      <td> 2.816</td> <th>  Cond. No.          </th> <td>    66.3</td>\n",
       "</tr>\n",
       "</table>"
      ],
      "text/plain": [
       "<class 'statsmodels.iolib.summary.Summary'>\n",
       "\"\"\"\n",
       "                            OLS Regression Results                            \n",
       "==============================================================================\n",
       "Dep. Variable:                    pc1   R-squared:                       0.949\n",
       "Model:                            OLS   Adj. R-squared:                  0.936\n",
       "Method:                 Least Squares   F-statistic:                     74.66\n",
       "Date:                Wed, 28 Dec 2016   Prob (F-statistic):           4.96e-08\n",
       "Time:                        13:59:27   Log-Likelihood:                 11.464\n",
       "No. Observations:                  16   AIC:                            -14.93\n",
       "Df Residuals:                      12   BIC:                            -11.84\n",
       "Df Model:                           3                                         \n",
       "Covariance Type:            nonrobust                                         \n",
       "========================================================================================\n",
       "                           coef    std err          t      P>|t|      [95.0% Conf. Int.]\n",
       "----------------------------------------------------------------------------------------\n",
       "Intercept               -0.5240      0.075     -6.952      0.000        -0.688    -0.360\n",
       "treatmentcat[T.CR]      -0.4656      0.097     -4.825      0.000        -0.676    -0.255\n",
       "treatmentcat[T.Rapa]    -0.2269      0.097     -2.351      0.037        -0.437    -0.017\n",
       "Age_month                0.0674      0.005     13.959      0.000         0.057     0.078\n",
       "==============================================================================\n",
       "Omnibus:                        2.798   Durbin-Watson:                   2.249\n",
       "Prob(Omnibus):                  0.247   Jarque-Bera (JB):                1.788\n",
       "Skew:                           0.814   Prob(JB):                        0.409\n",
       "Kurtosis:                       2.816   Cond. No.                         66.3\n",
       "==============================================================================\n",
       "\n",
       "Warnings:\n",
       "[1] Standard Errors assume that the covariance matrix of the errors is correctly specified.\n",
       "\"\"\""
      ]
     },
     "execution_count": 16,
     "metadata": {},
     "output_type": "execute_result"
    }
   ],
   "source": [
    "mod_het = smf.ols('pc1~Age_month+treatmentcat',data=umhet_pca).fit()\n",
    "mod_het.summary()"
   ]
  },
  {
   "cell_type": "code",
   "execution_count": 17,
   "metadata": {
    "collapsed": false
   },
   "outputs": [
    {
     "data": {
      "text/plain": [
       "Intercept               1.533656e-05\n",
       "treatmentcat[T.CR]      4.156421e-04\n",
       "treatmentcat[T.Rapa]    3.664484e-02\n",
       "Age_month               8.818749e-09\n",
       "dtype: float64"
      ]
     },
     "execution_count": 17,
     "metadata": {},
     "output_type": "execute_result"
    }
   ],
   "source": [
    "mod_het.pvalues"
   ]
  },
  {
   "cell_type": "markdown",
   "metadata": {
    "collapsed": true
   },
   "source": [
    "### Hierarchical Clustering"
   ]
  },
  {
   "cell_type": "code",
   "execution_count": 18,
   "metadata": {
    "collapsed": false
   },
   "outputs": [],
   "source": [
    "adams_covar['mouse'] = map(lambda z: ['Ames','Miller'][z],[x.startswith('Miller') for x in adams_covar['FileName'].values])"
   ]
  },
  {
   "cell_type": "code",
   "execution_count": 19,
   "metadata": {
    "collapsed": false
   },
   "outputs": [],
   "source": [
    "map_cohort_names = {'DO':'D', 'WTO':'W', 'DY':'D', 'WTY':'W', 'Young':'W', \n",
    "                    'Old':'W', 'Rapa':'R', 'CR':'C'}\n",
    "map_names = adams_covar['Cohort'].map(map_cohort_names)\n",
    "map_names_d = {ind:map_names[ind] for ind in map_names.index}"
   ]
  },
  {
   "cell_type": "code",
   "execution_count": 20,
   "metadata": {
    "collapsed": false
   },
   "outputs": [],
   "source": [
    "map_colors = {'DO':sns.xkcd_rgb[\"grey blue\"], 'WTO':sns.xkcd_rgb[\"deep blue\"], 'DY':sns.xkcd_rgb[\"baby blue\"], 'WTY':sns.xkcd_rgb[\"ocean blue\"], 'Young':sns.xkcd_rgb[\"greenish blue\"], \n",
    "                    'Old':sns.xkcd_rgb[\"dark green\"], 'Rapa':sns.xkcd_rgb[\"olive\"], 'CR':sns.xkcd_rgb[\"greenish grey\"]}\n",
    "colors_treatment = adams_covar.loc[adams_covar.index,'Cohort'].map(map_colors)"
   ]
  },
  {
   "cell_type": "code",
   "execution_count": 21,
   "metadata": {
    "collapsed": true
   },
   "outputs": [],
   "source": [
    "weights = pd.read_csv('data/epigenetic_aging_model/EnetSites_with_weights.txt',sep='\\t',header=None,index_col=0,squeeze=True)"
   ]
  },
  {
   "cell_type": "code",
   "execution_count": 22,
   "metadata": {
    "collapsed": false
   },
   "outputs": [],
   "source": [
    "adams_corrected_enet = adams_combined[enet_markers]\n",
    "topper=20\n",
    "topstd = adams_corrected_enet.std().sort_values(ascending=False).iloc[:topper].index\n",
    "tocluster = adams_corrected_enet[topstd]\n",
    "tocluster.index = pd.Series(tocluster.index).map(map_names_d)"
   ]
  },
  {
   "cell_type": "code",
   "execution_count": 23,
   "metadata": {
    "collapsed": true
   },
   "outputs": [],
   "source": [
    "tocluster_all = adams_corrected_enet\n",
    "tocluster_all.index = pd.Series(tocluster_all.index).map(map_names_d)"
   ]
  },
  {
   "cell_type": "code",
   "execution_count": 24,
   "metadata": {
    "collapsed": false
   },
   "outputs": [
    {
     "data": {
      "image/png": "[encoded data removed]",
      "text/plain": [
       "<matplotlib.figure.Figure at 0x7f1b035c4c90>"
      ]
     },
     "metadata": {},
     "output_type": "display_data"
    }
   ],
   "source": [
    "tocluster.columns = [':'.join(x.split(':')[:2]) for x in tocluster.columns]\n",
    "g = sns.clustermap(tocluster.T,standard_scale=0,col_colors=colors_treatment,yticklabels=True,figsize=(6,4))\n",
    "tt=plt.setp(g.ax_heatmap.xaxis.get_majorticklabels(), fontsize=6,rotation=0)\n",
    "tt=plt.setp(g.ax_heatmap.yaxis.get_majorticklabels(), fontsize=4,rotation=360)"
   ]
  },
  {
   "cell_type": "code",
   "execution_count": 25,
   "metadata": {
    "collapsed": false
   },
   "outputs": [
    {
     "data": {
      "image/png": "[encoded data removed]",
      "text/plain": [
       "<matplotlib.figure.Figure at 0x7f1b03189110>"
      ]
     },
     "metadata": {},
     "output_type": "display_data"
    }
   ],
   "source": [
    "g = sns.clustermap(tocluster_all.T,standard_scale=0,col_colors=colors_treatment,yticklabels=False,figsize=(8,4))"
   ]
  },
  {
   "cell_type": "code",
   "execution_count": null,
   "metadata": {
    "collapsed": true
   },
   "outputs": [],
   "source": []
  }
 ],
 "metadata": {
  "kernelspec": {
   "display_name": "Python 2",
   "language": "python",
   "name": "python2"
  },
  "language_info": {
   "codemirror_mode": {
    "name": "ipython",
    "version": 2
   },
   "file_extension": ".py",
   "mimetype": "text/x-python",
   "name": "python",
   "nbconvert_exporter": "python",
   "pygments_lexer": "ipython2",
   "version": "2.7.12"
  }
 },
 "nbformat": 4,
 "nbformat_minor": 0
}
